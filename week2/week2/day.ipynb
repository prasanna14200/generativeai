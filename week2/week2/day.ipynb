{
 "cells": [
  {
   "cell_type": "code",
   "execution_count": 6,
   "id": "f120782f",
   "metadata": {},
   "outputs": [
    {
     "name": "stdout",
     "output_type": "stream",
     "text": [
      "Collecting google-generativeai\n",
      "  Using cached google_generativeai-0.8.5-py3-none-any.whl.metadata (3.9 kB)\n",
      "Collecting google-ai-generativelanguage==0.6.15 (from google-generativeai)\n",
      "  Using cached google_ai_generativelanguage-0.6.15-py3-none-any.whl.metadata (5.7 kB)\n",
      "Collecting google-api-core (from google-generativeai)\n",
      "  Using cached google_api_core-2.24.2-py3-none-any.whl.metadata (3.0 kB)\n",
      "Collecting google-api-python-client (from google-generativeai)\n",
      "  Using cached google_api_python_client-2.169.0-py3-none-any.whl.metadata (6.7 kB)\n",
      "Collecting google-auth>=2.15.0 (from google-generativeai)\n",
      "  Using cached google_auth-2.40.1-py2.py3-none-any.whl.metadata (6.2 kB)\n",
      "Collecting protobuf (from google-generativeai)\n",
      "  Downloading protobuf-6.31.0-cp310-abi3-win_amd64.whl.metadata (593 bytes)\n",
      "Requirement already satisfied: pydantic in c:\\users\\sri lakshmi prasanna\\anaconda3\\envs\\llmsenv\\lib\\site-packages (from google-generativeai) (2.11.4)\n",
      "Requirement already satisfied: tqdm in c:\\users\\sri lakshmi prasanna\\anaconda3\\envs\\llmsenv\\lib\\site-packages (from google-generativeai) (4.67.1)\n",
      "Requirement already satisfied: typing-extensions in c:\\users\\sri lakshmi prasanna\\anaconda3\\envs\\llmsenv\\lib\\site-packages (from google-generativeai) (4.13.2)\n",
      "Collecting google-api-core (from google-generativeai)\n",
      "  Using cached google_api_core-2.25.0rc1-py3-none-any.whl.metadata (3.0 kB)\n",
      "Collecting proto-plus<2.0.0dev,>=1.22.3 (from google-ai-generativelanguage==0.6.15->google-generativeai)\n",
      "  Using cached proto_plus-1.26.1-py3-none-any.whl.metadata (2.2 kB)\n",
      "Collecting protobuf (from google-generativeai)\n",
      "  Using cached protobuf-5.29.4-cp310-abi3-win_amd64.whl.metadata (592 bytes)\n",
      "Collecting googleapis-common-protos<2.0.0,>=1.56.2 (from google-api-core->google-generativeai)\n",
      "  Using cached googleapis_common_protos-1.70.0-py3-none-any.whl.metadata (9.3 kB)\n",
      "Requirement already satisfied: requests<3.0.0,>=2.18.0 in c:\\users\\sri lakshmi prasanna\\anaconda3\\envs\\llmsenv\\lib\\site-packages (from google-api-core->google-generativeai) (2.32.3)\n",
      "Collecting grpcio<2.0.0,>=1.33.2 (from google-api-core[grpc]!=2.0.*,!=2.1.*,!=2.10.*,!=2.2.*,!=2.3.*,!=2.4.*,!=2.5.*,!=2.6.*,!=2.7.*,!=2.8.*,!=2.9.*,<3.0.0dev,>=1.34.1->google-ai-generativelanguage==0.6.15->google-generativeai)\n",
      "  Using cached grpcio-1.71.0-cp312-cp312-win_amd64.whl.metadata (4.0 kB)\n",
      "Collecting grpcio-status<2.0.0,>=1.33.2 (from google-api-core[grpc]!=2.0.*,!=2.1.*,!=2.10.*,!=2.2.*,!=2.3.*,!=2.4.*,!=2.5.*,!=2.6.*,!=2.7.*,!=2.8.*,!=2.9.*,<3.0.0dev,>=1.34.1->google-ai-generativelanguage==0.6.15->google-generativeai)\n",
      "  Using cached grpcio_status-1.71.0-py3-none-any.whl.metadata (1.1 kB)\n",
      "Collecting cachetools<6.0,>=2.0.0 (from google-auth>=2.15.0->google-generativeai)\n",
      "  Using cached cachetools-5.5.2-py3-none-any.whl.metadata (5.4 kB)\n",
      "Collecting pyasn1-modules>=0.2.1 (from google-auth>=2.15.0->google-generativeai)\n",
      "  Using cached pyasn1_modules-0.4.2-py3-none-any.whl.metadata (3.5 kB)\n",
      "Collecting rsa<5,>=3.1.4 (from google-auth>=2.15.0->google-generativeai)\n",
      "  Using cached rsa-4.9.1-py3-none-any.whl.metadata (5.6 kB)\n",
      "Requirement already satisfied: charset-normalizer<4,>=2 in c:\\users\\sri lakshmi prasanna\\anaconda3\\envs\\llmsenv\\lib\\site-packages (from requests<3.0.0,>=2.18.0->google-api-core->google-generativeai) (3.4.2)\n",
      "Requirement already satisfied: idna<4,>=2.5 in c:\\users\\sri lakshmi prasanna\\anaconda3\\envs\\llmsenv\\lib\\site-packages (from requests<3.0.0,>=2.18.0->google-api-core->google-generativeai) (3.10)\n",
      "Requirement already satisfied: urllib3<3,>=1.21.1 in c:\\users\\sri lakshmi prasanna\\anaconda3\\envs\\llmsenv\\lib\\site-packages (from requests<3.0.0,>=2.18.0->google-api-core->google-generativeai) (2.4.0)\n",
      "Requirement already satisfied: certifi>=2017.4.17 in c:\\users\\sri lakshmi prasanna\\anaconda3\\envs\\llmsenv\\lib\\site-packages (from requests<3.0.0,>=2.18.0->google-api-core->google-generativeai) (2025.4.26)\n",
      "Collecting pyasn1>=0.1.3 (from rsa<5,>=3.1.4->google-auth>=2.15.0->google-generativeai)\n",
      "  Using cached pyasn1-0.6.1-py3-none-any.whl.metadata (8.4 kB)\n",
      "Collecting httplib2<1.0.0,>=0.19.0 (from google-api-python-client->google-generativeai)\n",
      "  Using cached httplib2-0.22.0-py3-none-any.whl.metadata (2.6 kB)\n",
      "Collecting google-auth-httplib2<1.0.0,>=0.2.0 (from google-api-python-client->google-generativeai)\n",
      "  Using cached google_auth_httplib2-0.2.0-py2.py3-none-any.whl.metadata (2.2 kB)\n",
      "Collecting uritemplate<5,>=3.0.1 (from google-api-python-client->google-generativeai)\n",
      "  Using cached uritemplate-4.1.1-py2.py3-none-any.whl.metadata (2.9 kB)\n",
      "Collecting pyparsing!=3.0.0,!=3.0.1,!=3.0.2,!=3.0.3,<4,>=2.4.2 (from httplib2<1.0.0,>=0.19.0->google-api-python-client->google-generativeai)\n",
      "  Using cached pyparsing-3.2.3-py3-none-any.whl.metadata (5.0 kB)\n",
      "Requirement already satisfied: annotated-types>=0.6.0 in c:\\users\\sri lakshmi prasanna\\anaconda3\\envs\\llmsenv\\lib\\site-packages (from pydantic->google-generativeai) (0.7.0)\n",
      "Requirement already satisfied: pydantic-core==2.33.2 in c:\\users\\sri lakshmi prasanna\\anaconda3\\envs\\llmsenv\\lib\\site-packages (from pydantic->google-generativeai) (2.33.2)\n",
      "Requirement already satisfied: typing-inspection>=0.4.0 in c:\\users\\sri lakshmi prasanna\\anaconda3\\envs\\llmsenv\\lib\\site-packages (from pydantic->google-generativeai) (0.4.0)\n",
      "Requirement already satisfied: colorama in c:\\users\\sri lakshmi prasanna\\anaconda3\\envs\\llmsenv\\lib\\site-packages (from tqdm->google-generativeai) (0.4.6)\n",
      "Downloading google_generativeai-0.8.5-py3-none-any.whl (155 kB)\n",
      "Using cached google_ai_generativelanguage-0.6.15-py3-none-any.whl (1.3 MB)\n",
      "Downloading google_api_core-2.25.0rc1-py3-none-any.whl (160 kB)\n",
      "Downloading google_auth-2.40.1-py2.py3-none-any.whl (216 kB)\n",
      "Using cached cachetools-5.5.2-py3-none-any.whl (10 kB)\n",
      "Downloading googleapis_common_protos-1.70.0-py3-none-any.whl (294 kB)\n",
      "Using cached grpcio-1.71.0-cp312-cp312-win_amd64.whl (4.3 MB)\n",
      "Using cached grpcio_status-1.71.0-py3-none-any.whl (14 kB)\n",
      "Using cached proto_plus-1.26.1-py3-none-any.whl (50 kB)\n",
      "Using cached protobuf-5.29.4-cp310-abi3-win_amd64.whl (434 kB)\n",
      "Downloading rsa-4.9.1-py3-none-any.whl (34 kB)\n",
      "Using cached pyasn1-0.6.1-py3-none-any.whl (83 kB)\n",
      "Using cached pyasn1_modules-0.4.2-py3-none-any.whl (181 kB)\n",
      "Downloading google_api_python_client-2.169.0-py3-none-any.whl (13.3 MB)\n",
      "   ---------------------------------------- 0.0/13.3 MB ? eta -:--:--\n",
      "   ---------------------------------------- 0.0/13.3 MB ? eta -:--:--\n",
      "   ---------------------------------------- 0.0/13.3 MB ? eta -:--:--\n",
      "   ---------------------------------------- 0.0/13.3 MB ? eta -:--:--\n",
      "    --------------------------------------- 0.3/13.3 MB ? eta -:--:--\n",
      "    --------------------------------------- 0.3/13.3 MB ? eta -:--:--\n",
      "    --------------------------------------- 0.3/13.3 MB ? eta -:--:--\n",
      "    --------------------------------------- 0.3/13.3 MB ? eta -:--:--\n",
      "   - -------------------------------------- 0.5/13.3 MB 310.6 kB/s eta 0:00:42\n",
      "   - -------------------------------------- 0.5/13.3 MB 310.6 kB/s eta 0:00:42\n",
      "   - -------------------------------------- 0.5/13.3 MB 310.6 kB/s eta 0:00:42\n",
      "   -- ------------------------------------- 0.8/13.3 MB 399.3 kB/s eta 0:00:32\n",
      "   -- ------------------------------------- 0.8/13.3 MB 399.3 kB/s eta 0:00:32\n",
      "   -- ------------------------------------- 0.8/13.3 MB 399.3 kB/s eta 0:00:32\n",
      "   -- ------------------------------------- 0.8/13.3 MB 399.3 kB/s eta 0:00:32\n",
      "   --- ------------------------------------ 1.0/13.3 MB 342.4 kB/s eta 0:00:36\n",
      "   --- ------------------------------------ 1.0/13.3 MB 342.4 kB/s eta 0:00:36\n",
      "   --- ------------------------------------ 1.0/13.3 MB 342.4 kB/s eta 0:00:36\n",
      "   --- ------------------------------------ 1.0/13.3 MB 342.4 kB/s eta 0:00:36\n",
      "   --- ------------------------------------ 1.3/13.3 MB 355.0 kB/s eta 0:00:34\n",
      "   --- ------------------------------------ 1.3/13.3 MB 355.0 kB/s eta 0:00:34\n",
      "   ---- ----------------------------------- 1.6/13.3 MB 383.0 kB/s eta 0:00:31\n",
      "   ---- ----------------------------------- 1.6/13.3 MB 383.0 kB/s eta 0:00:31\n",
      "   ---- ----------------------------------- 1.6/13.3 MB 383.0 kB/s eta 0:00:31\n",
      "   ----- ---------------------------------- 1.8/13.3 MB 381.3 kB/s eta 0:00:31\n",
      "   ----- ---------------------------------- 1.8/13.3 MB 381.3 kB/s eta 0:00:31\n",
      "   ----- ---------------------------------- 1.8/13.3 MB 381.3 kB/s eta 0:00:31\n",
      "   ----- ---------------------------------- 1.8/13.3 MB 381.3 kB/s eta 0:00:31\n",
      "   ------ --------------------------------- 2.1/13.3 MB 375.2 kB/s eta 0:00:30\n",
      "   ------- -------------------------------- 2.4/13.3 MB 404.2 kB/s eta 0:00:28\n",
      "   ------- -------------------------------- 2.4/13.3 MB 404.2 kB/s eta 0:00:28\n",
      "   ------- -------------------------------- 2.4/13.3 MB 404.2 kB/s eta 0:00:28\n",
      "   ------- -------------------------------- 2.4/13.3 MB 404.2 kB/s eta 0:00:28\n",
      "   ------- -------------------------------- 2.6/13.3 MB 395.3 kB/s eta 0:00:28\n",
      "   ------- -------------------------------- 2.6/13.3 MB 395.3 kB/s eta 0:00:28\n",
      "   ------- -------------------------------- 2.6/13.3 MB 395.3 kB/s eta 0:00:28\n",
      "   ------- -------------------------------- 2.6/13.3 MB 395.3 kB/s eta 0:00:28\n",
      "   -------- ------------------------------- 2.9/13.3 MB 383.9 kB/s eta 0:00:28\n",
      "   -------- ------------------------------- 2.9/13.3 MB 383.9 kB/s eta 0:00:28\n",
      "   --------- ------------------------------ 3.1/13.3 MB 405.6 kB/s eta 0:00:26\n",
      "   ---------- ----------------------------- 3.4/13.3 MB 421.2 kB/s eta 0:00:24\n",
      "   ---------- ----------------------------- 3.4/13.3 MB 421.2 kB/s eta 0:00:24\n",
      "   ---------- ----------------------------- 3.4/13.3 MB 421.2 kB/s eta 0:00:24\n",
      "   ---------- ----------------------------- 3.4/13.3 MB 421.2 kB/s eta 0:00:24\n",
      "   ---------- ----------------------------- 3.4/13.3 MB 421.2 kB/s eta 0:00:24\n",
      "   ---------- ----------------------------- 3.4/13.3 MB 421.2 kB/s eta 0:00:24\n",
      "   ----------- ---------------------------- 3.7/13.3 MB 394.4 kB/s eta 0:00:25\n",
      "   ----------- ---------------------------- 3.7/13.3 MB 394.4 kB/s eta 0:00:25\n",
      "   ----------- ---------------------------- 3.9/13.3 MB 402.9 kB/s eta 0:00:24\n",
      "   ----------- ---------------------------- 3.9/13.3 MB 402.9 kB/s eta 0:00:24\n",
      "   ------------ --------------------------- 4.2/13.3 MB 413.9 kB/s eta 0:00:23\n",
      "   ------------ --------------------------- 4.2/13.3 MB 413.9 kB/s eta 0:00:23\n",
      "   ------------ --------------------------- 4.2/13.3 MB 413.9 kB/s eta 0:00:23\n",
      "   ------------ --------------------------- 4.2/13.3 MB 413.9 kB/s eta 0:00:23\n",
      "   ------------ --------------------------- 4.2/13.3 MB 413.9 kB/s eta 0:00:23\n",
      "   ------------- -------------------------- 4.5/13.3 MB 396.5 kB/s eta 0:00:23\n",
      "   ------------- -------------------------- 4.5/13.3 MB 396.5 kB/s eta 0:00:23\n",
      "   ------------- -------------------------- 4.5/13.3 MB 396.5 kB/s eta 0:00:23\n",
      "   -------------- ------------------------- 4.7/13.3 MB 396.7 kB/s eta 0:00:22\n",
      "   -------------- ------------------------- 4.7/13.3 MB 396.7 kB/s eta 0:00:22\n",
      "   -------------- ------------------------- 5.0/13.3 MB 404.3 kB/s eta 0:00:21\n",
      "   -------------- ------------------------- 5.0/13.3 MB 404.3 kB/s eta 0:00:21\n",
      "   -------------- ------------------------- 5.0/13.3 MB 404.3 kB/s eta 0:00:21\n",
      "   -------------- ------------------------- 5.0/13.3 MB 404.3 kB/s eta 0:00:21\n",
      "   -------------- ------------------------- 5.0/13.3 MB 404.3 kB/s eta 0:00:21\n",
      "   --------------- ------------------------ 5.2/13.3 MB 394.5 kB/s eta 0:00:21\n",
      "   --------------- ------------------------ 5.2/13.3 MB 394.5 kB/s eta 0:00:21\n",
      "   --------------- ------------------------ 5.2/13.3 MB 394.5 kB/s eta 0:00:21\n",
      "   --------------- ------------------------ 5.2/13.3 MB 394.5 kB/s eta 0:00:21\n",
      "   ---------------- ----------------------- 5.5/13.3 MB 387.0 kB/s eta 0:00:21\n",
      "   ---------------- ----------------------- 5.5/13.3 MB 387.0 kB/s eta 0:00:21\n",
      "   ---------------- ----------------------- 5.5/13.3 MB 387.0 kB/s eta 0:00:21\n",
      "   ----------------- ---------------------- 5.8/13.3 MB 387.2 kB/s eta 0:00:20\n",
      "   ----------------- ---------------------- 5.8/13.3 MB 387.2 kB/s eta 0:00:20\n",
      "   ----------------- ---------------------- 5.8/13.3 MB 387.2 kB/s eta 0:00:20\n",
      "   ----------------- ---------------------- 5.8/13.3 MB 387.2 kB/s eta 0:00:20\n",
      "   ----------------- ---------------------- 5.8/13.3 MB 387.2 kB/s eta 0:00:20\n",
      "   ------------------ --------------------- 6.0/13.3 MB 380.9 kB/s eta 0:00:20\n",
      "   ------------------ --------------------- 6.0/13.3 MB 380.9 kB/s eta 0:00:20\n",
      "   ------------------ --------------------- 6.3/13.3 MB 387.0 kB/s eta 0:00:19\n",
      "   ------------------ --------------------- 6.3/13.3 MB 387.0 kB/s eta 0:00:19\n",
      "   ------------------ --------------------- 6.3/13.3 MB 387.0 kB/s eta 0:00:19\n",
      "   ------------------ --------------------- 6.3/13.3 MB 387.0 kB/s eta 0:00:19\n",
      "   ------------------ --------------------- 6.3/13.3 MB 387.0 kB/s eta 0:00:19\n",
      "   ------------------ --------------------- 6.3/13.3 MB 387.0 kB/s eta 0:00:19\n",
      "   ------------------ --------------------- 6.3/13.3 MB 387.0 kB/s eta 0:00:19\n",
      "   ------------------- -------------------- 6.6/13.3 MB 369.4 kB/s eta 0:00:19\n",
      "   ------------------- -------------------- 6.6/13.3 MB 369.4 kB/s eta 0:00:19\n",
      "   -------------------- ------------------- 6.8/13.3 MB 374.1 kB/s eta 0:00:18\n",
      "   -------------------- ------------------- 6.8/13.3 MB 374.1 kB/s eta 0:00:18\n",
      "   -------------------- ------------------- 6.8/13.3 MB 374.1 kB/s eta 0:00:18\n",
      "   -------------------- ------------------- 6.8/13.3 MB 374.1 kB/s eta 0:00:18\n",
      "   -------------------- ------------------- 6.8/13.3 MB 374.1 kB/s eta 0:00:18\n",
      "   -------------------- ------------------- 6.8/13.3 MB 374.1 kB/s eta 0:00:18\n",
      "   -------------------- ------------------- 6.8/13.3 MB 374.1 kB/s eta 0:00:18\n",
      "   --------------------- ------------------ 7.1/13.3 MB 358.1 kB/s eta 0:00:18\n",
      "   --------------------- ------------------ 7.1/13.3 MB 358.1 kB/s eta 0:00:18\n",
      "   --------------------- ------------------ 7.1/13.3 MB 358.1 kB/s eta 0:00:18\n",
      "   --------------------- ------------------ 7.1/13.3 MB 358.1 kB/s eta 0:00:18\n",
      "   --------------------- ------------------ 7.1/13.3 MB 358.1 kB/s eta 0:00:18\n",
      "   ---------------------- ----------------- 7.3/13.3 MB 355.3 kB/s eta 0:00:17\n",
      "   ---------------------- ----------------- 7.3/13.3 MB 355.3 kB/s eta 0:00:17\n",
      "   ---------------------- ----------------- 7.3/13.3 MB 355.3 kB/s eta 0:00:17\n",
      "   ---------------------- ----------------- 7.3/13.3 MB 355.3 kB/s eta 0:00:17\n",
      "   ---------------------- ----------------- 7.3/13.3 MB 355.3 kB/s eta 0:00:17\n",
      "   ---------------------- ----------------- 7.3/13.3 MB 355.3 kB/s eta 0:00:17\n",
      "   ---------------------- ----------------- 7.6/13.3 MB 344.6 kB/s eta 0:00:17\n",
      "   ---------------------- ----------------- 7.6/13.3 MB 344.6 kB/s eta 0:00:17\n",
      "   ---------------------- ----------------- 7.6/13.3 MB 344.6 kB/s eta 0:00:17\n",
      "   ----------------------- ---------------- 7.9/13.3 MB 346.0 kB/s eta 0:00:16\n",
      "   ----------------------- ---------------- 7.9/13.3 MB 346.0 kB/s eta 0:00:16\n",
      "   ----------------------- ---------------- 7.9/13.3 MB 346.0 kB/s eta 0:00:16\n",
      "   ----------------------- ---------------- 7.9/13.3 MB 346.0 kB/s eta 0:00:16\n",
      "   ----------------------- ---------------- 7.9/13.3 MB 346.0 kB/s eta 0:00:16\n",
      "   ----------------------- ---------------- 7.9/13.3 MB 346.0 kB/s eta 0:00:16\n",
      "   ------------------------ --------------- 8.1/13.3 MB 338.9 kB/s eta 0:00:16\n",
      "   ------------------------ --------------- 8.1/13.3 MB 338.9 kB/s eta 0:00:16\n",
      "   ------------------------ --------------- 8.1/13.3 MB 338.9 kB/s eta 0:00:16\n",
      "   ------------------------ --------------- 8.1/13.3 MB 338.9 kB/s eta 0:00:16\n",
      "   ------------------------ --------------- 8.1/13.3 MB 338.9 kB/s eta 0:00:16\n",
      "   ------------------------ --------------- 8.1/13.3 MB 338.9 kB/s eta 0:00:16\n",
      "   ------------------------- -------------- 8.4/13.3 MB 334.0 kB/s eta 0:00:15\n",
      "   ------------------------- -------------- 8.4/13.3 MB 334.0 kB/s eta 0:00:15\n",
      "   ------------------------- -------------- 8.4/13.3 MB 334.0 kB/s eta 0:00:15\n",
      "   ------------------------- -------------- 8.4/13.3 MB 334.0 kB/s eta 0:00:15\n",
      "   ------------------------- -------------- 8.7/13.3 MB 332.8 kB/s eta 0:00:15\n",
      "   ------------------------- -------------- 8.7/13.3 MB 332.8 kB/s eta 0:00:15\n",
      "   ------------------------- -------------- 8.7/13.3 MB 332.8 kB/s eta 0:00:15\n",
      "   ------------------------- -------------- 8.7/13.3 MB 332.8 kB/s eta 0:00:15\n",
      "   ------------------------- -------------- 8.7/13.3 MB 332.8 kB/s eta 0:00:15\n",
      "   -------------------------- ------------- 8.9/13.3 MB 329.0 kB/s eta 0:00:14\n",
      "   -------------------------- ------------- 8.9/13.3 MB 329.0 kB/s eta 0:00:14\n",
      "   -------------------------- ------------- 8.9/13.3 MB 329.0 kB/s eta 0:00:14\n",
      "   -------------------------- ------------- 8.9/13.3 MB 329.0 kB/s eta 0:00:14\n",
      "   --------------------------- ------------ 9.2/13.3 MB 329.7 kB/s eta 0:00:13\n",
      "   --------------------------- ------------ 9.2/13.3 MB 329.7 kB/s eta 0:00:13\n",
      "   --------------------------- ------------ 9.2/13.3 MB 329.7 kB/s eta 0:00:13\n",
      "   --------------------------- ------------ 9.2/13.3 MB 329.7 kB/s eta 0:00:13\n",
      "   --------------------------- ------------ 9.2/13.3 MB 329.7 kB/s eta 0:00:13\n",
      "   ---------------------------- ----------- 9.4/13.3 MB 326.4 kB/s eta 0:00:12\n",
      "   ---------------------------- ----------- 9.4/13.3 MB 326.4 kB/s eta 0:00:12\n",
      "   ---------------------------- ----------- 9.4/13.3 MB 326.4 kB/s eta 0:00:12\n",
      "   ---------------------------- ----------- 9.4/13.3 MB 326.4 kB/s eta 0:00:12\n",
      "   ----------------------------- ---------- 9.7/13.3 MB 325.4 kB/s eta 0:00:12\n",
      "   ----------------------------- ---------- 9.7/13.3 MB 325.4 kB/s eta 0:00:12\n",
      "   ----------------------------- ---------- 9.7/13.3 MB 325.4 kB/s eta 0:00:12\n",
      "   ----------------------------- ---------- 9.7/13.3 MB 325.4 kB/s eta 0:00:12\n",
      "   ----------------------------- ---------- 10.0/13.3 MB 324.3 kB/s eta 0:00:11\n",
      "   ----------------------------- ---------- 10.0/13.3 MB 324.3 kB/s eta 0:00:11\n",
      "   ----------------------------- ---------- 10.0/13.3 MB 324.3 kB/s eta 0:00:11\n",
      "   ----------------------------- ---------- 10.0/13.3 MB 324.3 kB/s eta 0:00:11\n",
      "   ------------------------------ --------- 10.2/13.3 MB 326.5 kB/s eta 0:00:10\n",
      "   ------------------------------ --------- 10.2/13.3 MB 326.5 kB/s eta 0:00:10\n",
      "   ------------------------------ --------- 10.2/13.3 MB 326.5 kB/s eta 0:00:10\n",
      "   ------------------------------- -------- 10.5/13.3 MB 324.7 kB/s eta 0:00:09\n",
      "   ------------------------------- -------- 10.5/13.3 MB 324.7 kB/s eta 0:00:09\n",
      "   -------------------------------- ------- 10.7/13.3 MB 329.8 kB/s eta 0:00:08\n",
      "   -------------------------------- ------- 10.7/13.3 MB 329.8 kB/s eta 0:00:08\n",
      "   -------------------------------- ------- 10.7/13.3 MB 329.8 kB/s eta 0:00:08\n",
      "   -------------------------------- ------- 10.7/13.3 MB 329.8 kB/s eta 0:00:08\n",
      "   -------------------------------- ------- 10.7/13.3 MB 329.8 kB/s eta 0:00:08\n",
      "   --------------------------------- ------ 11.0/13.3 MB 326.0 kB/s eta 0:00:08\n",
      "   --------------------------------- ------ 11.0/13.3 MB 326.0 kB/s eta 0:00:08\n",
      "   --------------------------------- ------ 11.0/13.3 MB 326.0 kB/s eta 0:00:08\n",
      "   --------------------------------- ------ 11.0/13.3 MB 326.0 kB/s eta 0:00:08\n",
      "   --------------------------------- ------ 11.3/13.3 MB 320.8 kB/s eta 0:00:07\n",
      "   --------------------------------- ------ 11.3/13.3 MB 320.8 kB/s eta 0:00:07\n",
      "   --------------------------------- ------ 11.3/13.3 MB 320.8 kB/s eta 0:00:07\n",
      "   --------------------------------- ------ 11.3/13.3 MB 320.8 kB/s eta 0:00:07\n",
      "   --------------------------------- ------ 11.3/13.3 MB 320.8 kB/s eta 0:00:07\n",
      "   --------------------------------- ------ 11.3/13.3 MB 320.8 kB/s eta 0:00:07\n",
      "   --------------------------------- ------ 11.3/13.3 MB 320.8 kB/s eta 0:00:07\n",
      "   --------------------------------- ------ 11.3/13.3 MB 320.8 kB/s eta 0:00:07\n",
      "   --------------------------------- ------ 11.3/13.3 MB 320.8 kB/s eta 0:00:07\n",
      "   --------------------------------- ------ 11.3/13.3 MB 320.8 kB/s eta 0:00:07\n",
      "   ---------------------------------- ----- 11.5/13.3 MB 299.3 kB/s eta 0:00:06\n",
      "   ---------------------------------- ----- 11.5/13.3 MB 299.3 kB/s eta 0:00:06\n",
      "   ---------------------------------- ----- 11.5/13.3 MB 299.3 kB/s eta 0:00:06\n",
      "   ---------------------------------- ----- 11.5/13.3 MB 299.3 kB/s eta 0:00:06\n",
      "   ---------------------------------- ----- 11.5/13.3 MB 299.3 kB/s eta 0:00:06\n",
      "   ---------------------------------- ----- 11.5/13.3 MB 299.3 kB/s eta 0:00:06\n",
      "   ---------------------------------- ----- 11.5/13.3 MB 299.3 kB/s eta 0:00:06\n",
      "   ----------------------------------- ---- 11.8/13.3 MB 281.5 kB/s eta 0:00:06\n",
      "   ----------------------------------- ---- 11.8/13.3 MB 281.5 kB/s eta 0:00:06\n",
      "   ----------------------------------- ---- 11.8/13.3 MB 281.5 kB/s eta 0:00:06\n",
      "   ----------------------------------- ---- 11.8/13.3 MB 281.5 kB/s eta 0:00:06\n",
      "   ----------------------------------- ---- 11.8/13.3 MB 281.5 kB/s eta 0:00:06\n",
      "   ----------------------------------- ---- 11.8/13.3 MB 281.5 kB/s eta 0:00:06\n",
      "   ----------------------------------- ---- 11.8/13.3 MB 281.5 kB/s eta 0:00:06\n",
      "   ----------------------------------- ---- 11.8/13.3 MB 281.5 kB/s eta 0:00:06\n",
      "   ------------------------------------ --- 12.1/13.3 MB 273.9 kB/s eta 0:00:05\n",
      "   ------------------------------------ --- 12.1/13.3 MB 273.9 kB/s eta 0:00:05\n",
      "   ------------------------------------ --- 12.1/13.3 MB 273.9 kB/s eta 0:00:05\n",
      "   ------------------------------------ --- 12.1/13.3 MB 273.9 kB/s eta 0:00:05\n",
      "   ------------------------------------ --- 12.3/13.3 MB 270.8 kB/s eta 0:00:04\n",
      "   ------------------------------------ --- 12.3/13.3 MB 270.8 kB/s eta 0:00:04\n",
      "   ------------------------------------ --- 12.3/13.3 MB 270.8 kB/s eta 0:00:04\n",
      "   ------------------------------------ --- 12.3/13.3 MB 270.8 kB/s eta 0:00:04\n",
      "   ------------------------------------- -- 12.6/13.3 MB 272.3 kB/s eta 0:00:03\n",
      "   ------------------------------------- -- 12.6/13.3 MB 272.3 kB/s eta 0:00:03\n",
      "   ------------------------------------- -- 12.6/13.3 MB 272.3 kB/s eta 0:00:03\n",
      "   ------------------------------------- -- 12.6/13.3 MB 272.3 kB/s eta 0:00:03\n",
      "   ------------------------------------- -- 12.6/13.3 MB 272.3 kB/s eta 0:00:03\n",
      "   -------------------------------------- - 12.8/13.3 MB 263.2 kB/s eta 0:00:02\n",
      "   -------------------------------------- - 12.8/13.3 MB 263.2 kB/s eta 0:00:02\n",
      "   -------------------------------------- - 12.8/13.3 MB 263.2 kB/s eta 0:00:02\n",
      "   -------------------------------------- - 12.8/13.3 MB 263.2 kB/s eta 0:00:02\n",
      "   -------------------------------------- - 12.8/13.3 MB 263.2 kB/s eta 0:00:02\n",
      "   -------------------------------------- - 12.8/13.3 MB 263.2 kB/s eta 0:00:02\n",
      "   -------------------------------------- - 12.8/13.3 MB 263.2 kB/s eta 0:00:02\n",
      "   -------------------------------------- - 12.8/13.3 MB 263.2 kB/s eta 0:00:02\n",
      "   -------------------------------------- - 12.8/13.3 MB 263.2 kB/s eta 0:00:02\n",
      "   ---------------------------------------  13.1/13.3 MB 255.3 kB/s eta 0:00:01\n",
      "   ---------------------------------------  13.1/13.3 MB 255.3 kB/s eta 0:00:01\n",
      "   ---------------------------------------  13.1/13.3 MB 255.3 kB/s eta 0:00:01\n",
      "   ---------------------------------------  13.1/13.3 MB 255.3 kB/s eta 0:00:01\n",
      "   ---------------------------------------  13.1/13.3 MB 255.3 kB/s eta 0:00:01\n",
      "   ---------------------------------------  13.1/13.3 MB 255.3 kB/s eta 0:00:01\n",
      "   ---------------------------------------- 13.3/13.3 MB 247.9 kB/s eta 0:00:00\n",
      "Using cached google_auth_httplib2-0.2.0-py2.py3-none-any.whl (9.3 kB)\n",
      "Using cached httplib2-0.22.0-py3-none-any.whl (96 kB)\n",
      "Using cached pyparsing-3.2.3-py3-none-any.whl (111 kB)\n",
      "Using cached uritemplate-4.1.1-py2.py3-none-any.whl (10 kB)\n",
      "Installing collected packages: uritemplate, pyparsing, pyasn1, protobuf, grpcio, cachetools, rsa, pyasn1-modules, proto-plus, httplib2, googleapis-common-protos, grpcio-status, google-auth, google-auth-httplib2, google-api-core, google-api-python-client, google-ai-generativelanguage, google-generativeai\n",
      "\n",
      "   ---- -----------------------------------  2/18 [pyasn1]\n",
      "   ---- -----------------------------------  2/18 [pyasn1]\n",
      "   ------ ---------------------------------  3/18 [protobuf]\n",
      "   -------- -------------------------------  4/18 [grpcio]\n",
      "   -------- -------------------------------  4/18 [grpcio]\n",
      "   ------------- --------------------------  6/18 [rsa]\n",
      "   --------------- ------------------------  7/18 [pyasn1-modules]\n",
      "   --------------- ------------------------  7/18 [pyasn1-modules]\n",
      "   --------------- ------------------------  7/18 [pyasn1-modules]\n",
      "   ---------------------- ----------------- 10/18 [googleapis-common-protos]\n",
      "   ---------------------- ----------------- 10/18 [googleapis-common-protos]\n",
      "   -------------------------- ------------- 12/18 [google-auth]\n",
      "   -------------------------- ------------- 12/18 [google-auth]\n",
      "   ------------------------------- -------- 14/18 [google-api-core]\n",
      "   --------------------------------- ------ 15/18 [google-api-python-client]\n",
      "   --------------------------------- ------ 15/18 [google-api-python-client]\n",
      "   --------------------------------- ------ 15/18 [google-api-python-client]\n",
      "   --------------------------------- ------ 15/18 [google-api-python-client]\n",
      "   ---------------------------------- ---- 16/18 [google-ai-generativelanguage]\n",
      "   ---------------------------------- ---- 16/18 [google-ai-generativelanguage]\n",
      "   ---------------------------------- ---- 16/18 [google-ai-generativelanguage]\n",
      "   ---------------------------------- ---- 16/18 [google-ai-generativelanguage]\n",
      "   ---------------------------------- ---- 16/18 [google-ai-generativelanguage]\n",
      "   ---------------------------------- ---- 16/18 [google-ai-generativelanguage]\n",
      "   ---------------------------------- ---- 16/18 [google-ai-generativelanguage]\n",
      "   ---------------------------------- ---- 16/18 [google-ai-generativelanguage]\n",
      "   ---------------------------------- ---- 16/18 [google-ai-generativelanguage]\n",
      "   ---------------------------------- ---- 16/18 [google-ai-generativelanguage]\n",
      "   ------------------------------------- -- 17/18 [google-generativeai]\n",
      "   ------------------------------------- -- 17/18 [google-generativeai]\n",
      "   ---------------------------------------- 18/18 [google-generativeai]\n",
      "\n",
      "Successfully installed cachetools-5.5.2 google-ai-generativelanguage-0.6.15 google-api-core-2.25.0rc1 google-api-python-client-2.169.0 google-auth-2.40.1 google-auth-httplib2-0.2.0 google-generativeai-0.8.5 googleapis-common-protos-1.70.0 grpcio-1.71.0 grpcio-status-1.71.0 httplib2-0.22.0 proto-plus-1.26.1 protobuf-5.29.4 pyasn1-0.6.1 pyasn1-modules-0.4.2 pyparsing-3.2.3 rsa-4.9.1 uritemplate-4.1.1\n"
     ]
    }
   ],
   "source": [
    "!pip install google-generativeai\n"
   ]
  },
  {
   "cell_type": "code",
   "execution_count": 14,
   "id": "c3613d45",
   "metadata": {},
   "outputs": [],
   "source": [
    "\n",
    "\n",
    "import os\n",
    "from dotenv import load_dotenv\n",
    "from openai import OpenAI\n",
    "from IPython.display import Markdown, display, update_display\n",
    "import google.generativeai  as genai"
   ]
  },
  {
   "cell_type": "code",
   "execution_count": 15,
   "id": "0cc7a156",
   "metadata": {},
   "outputs": [
    {
     "name": "stdout",
     "output_type": "stream",
     "text": [
      "Google API Key exists and begins AIzaSyDM\n"
     ]
    }
   ],
   "source": [
    "\n",
    "load_dotenv(override=True)\n",
    "google_api_key = os.getenv('GEMINI_API')\n",
    "\n",
    "if google_api_key:\n",
    "    print(f\"Google API Key exists and begins {google_api_key[:8]}\")\n",
    "else:\n",
    "    print(\"Google API Key not set\")\n"
   ]
  },
  {
   "cell_type": "code",
   "execution_count": 16,
   "id": "ece4d95a",
   "metadata": {},
   "outputs": [],
   "source": [
    "genai.configure(api_key=os.getenv(\"GEMINI_API\"))"
   ]
  },
  {
   "cell_type": "code",
   "execution_count": 17,
   "id": "ea17304a",
   "metadata": {},
   "outputs": [],
   "source": [
    "system_message = \"You are an assistant that is great at telling jokes\"\n",
    "user_prompt = \"Tell a light-hearted joke for an audience of Data Scientists\""
   ]
  },
  {
   "cell_type": "code",
   "execution_count": 18,
   "id": "4087f2b8",
   "metadata": {},
   "outputs": [],
   "source": [
    "prompts = [\n",
    "    {\"role\": \"system\", \"content\": system_message},\n",
    "    {\"role\": \"user\", \"content\": user_prompt}\n",
    "  ]"
   ]
  },
  {
   "cell_type": "code",
   "execution_count": 19,
   "id": "a48e6af2",
   "metadata": {},
   "outputs": [
    {
     "name": "stdout",
     "output_type": "stream",
     "text": [
      "Why was the equal sign so humble? \n",
      "\n",
      "Because it knew it wasn't less than or greater than anyone else. But, data scientists kept trying to run regressions on it to prove otherwise!\n",
      "\n"
     ]
    }
   ],
   "source": [
    "gemini=genai.GenerativeModel(\n",
    "         model_name='gemini-2.0-flash',\n",
    "         system_instruction=system_message\n",
    "\n",
    ")\n",
    "response=gemini.generate_content(user_prompt)\n",
    "print(response.text)"
   ]
  },
  {
   "cell_type": "code",
   "execution_count": 20,
   "id": "de2b010c",
   "metadata": {},
   "outputs": [
    {
     "name": "stdout",
     "output_type": "stream",
     "text": [
      "Okay, here's one for the data-savvy crowd:\n",
      "\n",
      "Why did the machine learning model get kicked out of cooking class?\n",
      "\n",
      "... Because it *overfitted* to the training data and could only make *one specific dish* perfectly, and didn't generalize to anything else!\n",
      "\n",
      "Hope that gets a chuckle! 😊\n"
     ]
    }
   ],
   "source": [
    "# As an alternative way to use Gemini that bypasses Google's python API library,\n",
    "# Google released endpoints that means you can use Gemini via the client libraries for OpenAI!\n",
    "# We're also trying Gemini's latest reasoning/thinking model\n",
    "\n",
    "gemini_via_openai_client = OpenAI(\n",
    "    api_key=google_api_key, \n",
    "    base_url=\"https://generativelanguage.googleapis.com/v1beta/openai/\"\n",
    ")\n",
    "\n",
    "response = gemini_via_openai_client.chat.completions.create(\n",
    "    model=\"gemini-2.5-flash-preview-04-17\",\n",
    "    messages=prompts\n",
    ")\n",
    "print(response.choices[0].message.content)"
   ]
  },
  {
   "cell_type": "code",
   "execution_count": 21,
   "id": "1219fa72",
   "metadata": {},
   "outputs": [
    {
     "name": "stdout",
     "output_type": "stream",
     "text": [
      "DeepSeek API Key set exists and begins sk-\n"
     ]
    }
   ],
   "source": [
    "import os\n",
    "from dotenv import load_dotenv\n",
    "\n",
    "# ✅ Load the .env file\n",
    "load_dotenv()\n",
    "\n",
    "# ✅ Now fetch the API key\n",
    "deepseek_api_key = os.getenv('DEEPSEEK_API_KEY')\n",
    "\n",
    "if deepseek_api_key:\n",
    "    print(f\"DeepSeek API Key set exists and begins {deepseek_api_key[:3]}\")\n",
    "else:\n",
    "    print(\"DeepSeek API Key not set - please skip to the next section if you don't wish to try the DeepSeek API\")\n"
   ]
  },
  {
   "cell_type": "code",
   "execution_count": 24,
   "id": "695843e2",
   "metadata": {},
   "outputs": [],
   "source": [
    "from dotenv import load_dotenv\n",
    "import os\n",
    "\n",
    "# Load environment variables from .env file\n",
    "load_dotenv()\n",
    "\n",
    "# Now get the key\n",
    "API_KEY = os.getenv(\"OPENROUTER\")\n"
   ]
  },
  {
   "cell_type": "code",
   "execution_count": 25,
   "id": "2fca8920",
   "metadata": {},
   "outputs": [
    {
     "name": "stdout",
     "output_type": "stream",
     "text": [
      "API Response: {'id': 'gen-1747457369-JJj1XWOvzr2oPFCHqQdM', 'provider': 'Chutes', 'model': 'deepseek/deepseek-prover-v2:free', 'object': 'chat.completion', 'created': 1747457370, 'choices': [{'logprobs': None, 'finish_reason': 'stop', 'native_finish_reason': 'stop', 'index': 0, 'message': {'role': 'assistant', 'content': \"The meaning of life is a profound and complex question that has puzzled philosophers, thinkers, and individuals for centuries. There is no one definitive answer, as it often depends on personal beliefs, values, and interpretations. Here are a few perspectives on the meaning of life:\\n\\n1. **Existential Perspective**: Some existentialist philosophers, such as Jean-Paul Sartre and Albert Camus, suggest that life has no inherent meaning, and it is up to each individual to create their own purpose or meaning in life.\\n\\n2. **Religious and Spiritual Perspectives**: Many religious and spiritual traditions offer their own explanations for the meaning of life. For example, in Christianity, the purpose of life is often seen as knowing, loving, and serving God. In Buddhism, the goal might be to achieve enlightenment and end the cycle of suffering.\\n\\n3. **Hedonistic Perspective**: This viewpoint suggests that the meaning of life is to seek pleasure and avoid pain. Life's purpose is to maximize happiness and enjoyment.\\n\\n4. **Humanistic Perspective**: From this perspective, the meaning of life is to realize one's potential, achieve self-actualization, and contribute to the well-being of others and society.\\n\\n5. **Scientific Perspective**: Some scientists and thinkers argue that life has no intrinsic meaning beyond biological imperatives to survive and reproduce. However, individuals can still find personal meaning and purpose in their experiences and relationships.\\n\\n6. **Absurdist Perspective**: Absurdists, like Albert Camus, believe that the search for meaning in life is inherently absurd because the universe is indifferent to human existence. Despite this, they advocate for embracing life with passion and defiance in the face of meaninglessness.\\n\\nUltimately, the meaning of life is a deeply personal and subjective question. It can vary from person to person and can evolve over time based on one's experiences and reflections. Many people find meaning in relationships, creative pursuits, helping others, personal growth, or contributing to a greater cause. Exploring this question can be a lifelong journey of self-discovery and reflection.\", 'refusal': None, 'reasoning': None}}], 'usage': {'prompt_tokens': 10, 'completion_tokens': 408, 'total_tokens': 418, 'prompt_tokens_details': None}}\n"
     ]
    }
   ],
   "source": [
    "import requests\n",
    "from dotenv import load_dotenv\n",
    "import os\n",
    "\n",
    "# Load environment variables\n",
    "load_dotenv()\n",
    "\n",
    "# Get API Key from .env\n",
    "API_KEY = os.getenv(\"OPENROUTER\")\n",
    "API_URL = 'https://openrouter.ai/api/v1/chat/completions'\n",
    "\n",
    "headers = {\n",
    "    'Authorization': f'Bearer {API_KEY}',\n",
    "    'Content-Type': 'application/json'\n",
    "}\n",
    "\n",
    "data = {\n",
    "    \"model\": \"deepseek/deepseek-prover-v2:free\",\n",
    "    \"messages\": [{\"role\": \"user\", \"content\": \"What is the meaning of life?\"}]\n",
    "}\n",
    "\n",
    "response = requests.post(API_URL, json=data, headers=headers)\n",
    "\n",
    "if response.status_code == 200:\n",
    "    print(\"API Response:\", response.json())\n",
    "else:\n",
    "    print(\"Failed to fetch data from API. Status Code:\", response.status_code)\n",
    "    print(\"Response content:\", response.text)\n"
   ]
  },
  {
   "cell_type": "code",
   "execution_count": 22,
   "id": "83af8552",
   "metadata": {},
   "outputs": [],
   "source": [
    "from openai import OpenAI\n"
   ]
  },
  {
   "cell_type": "code",
   "execution_count": 28,
   "id": "f9cc1c25",
   "metadata": {},
   "outputs": [],
   "source": [
    "# Using DeepSeek Chat\n",
    "\n",
    "deepseek_via_openai_client = OpenAI(\n",
    "    api_key=deepseek_api_key, \n",
    "    base_url=\"https://api.deepseek.com\"\n",
    ")\n"
   ]
  },
  {
   "cell_type": "code",
   "execution_count": 29,
   "id": "f6d91d7f",
   "metadata": {},
   "outputs": [
    {
     "name": "stdout",
     "output_type": "stream",
     "text": [
      "Error: Error code: 402 - {'error': {'message': 'Insufficient Balance', 'type': 'unknown_error', 'param': None, 'code': 'invalid_request_error'}}\n"
     ]
    }
   ],
   "source": [
    "try:\n",
    "    response = deepseek_via_openai_client.chat.completions.create(\n",
    "        model=\"deepseek-chat\",\n",
    "        messages=prompts,\n",
    "    )\n",
    "    print(response.choices[0].message.content)\n",
    "except Exception as e:\n",
    "    print(f\"Error: {e}\")\n"
   ]
  },
  {
   "cell_type": "code",
   "execution_count": 30,
   "id": "e219b274",
   "metadata": {},
   "outputs": [
    {
     "name": "stderr",
     "output_type": "stream",
     "text": [
      "\u001b[?2026h\u001b[?25l\u001b[1Gpulling manifest ⠋ \u001b[K\u001b[?25h\u001b[?2026l\u001b[?2026h\u001b[?25l\u001b[1Gpulling manifest ⠙ \u001b[K\u001b[?25h\u001b[?2026l\u001b[?2026h\u001b[?25l\u001b[1Gpulling manifest ⠹ \u001b[K\u001b[?25h\u001b[?2026l\u001b[?2026h\u001b[?25l\u001b[1Gpulling manifest ⠸ \u001b[K\u001b[?25h\u001b[?2026l\u001b[?2026h\u001b[?25l\u001b[1Gpulling manifest ⠼ \u001b[K\u001b[?25h\u001b[?2026l\u001b[?2026h\u001b[?25l\u001b[1Gpulling manifest ⠴ \u001b[K\u001b[?25h\u001b[?2026l\u001b[?2026h\u001b[?25l\u001b[1Gpulling manifest ⠦ \u001b[K\u001b[?25h\u001b[?2026l\u001b[?2026h\u001b[?25l\u001b[1Gpulling manifest ⠧ \u001b[K\u001b[?25h\u001b[?2026l\u001b[?2026h\u001b[?25l\u001b[1Gpulling manifest ⠇ \u001b[K\u001b[?25h\u001b[?2026l\u001b[?2026h\u001b[?25l\u001b[1Gpulling manifest ⠏ \u001b[K\u001b[?25h\u001b[?2026l\u001b[?2026h\u001b[?25l\u001b[1Gpulling manifest ⠋ \u001b[K\u001b[?25h\u001b[?2026l\u001b[?2026h\u001b[?25l\u001b[1Gpulling manifest ⠙ \u001b[K\u001b[?25h\u001b[?2026l\u001b[?2026h\u001b[?25l\u001b[1Gpulling manifest ⠹ \u001b[K\u001b[?25h\u001b[?2026l\u001b[?2026h\u001b[?25l\u001b[1Gpulling manifest ⠸ \u001b[K\u001b[?25h\u001b[?2026l\u001b[?2026h\u001b[?25l\u001b[1Gpulling manifest ⠼ \u001b[K\u001b[?25h\u001b[?2026l\u001b[?2026h\u001b[?25l\u001b[1Gpulling manifest ⠴ \u001b[K\u001b[?25h\u001b[?2026l\u001b[?2026h\u001b[?25l\u001b[1Gpulling manifest ⠦ \u001b[K\u001b[?25h\u001b[?2026l\u001b[?2026h\u001b[?25l\u001b[1Gpulling manifest ⠧ \u001b[K\u001b[?25h\u001b[?2026l\u001b[?2026h\u001b[?25l\u001b[1Gpulling manifest ⠇ \u001b[K\u001b[?25h\u001b[?2026l\u001b[?2026h\u001b[?25l\u001b[1Gpulling manifest ⠏ \u001b[K\u001b[?25h\u001b[?2026l\u001b[?2026h\u001b[?25l\u001b[1Gpulling manifest ⠋ \u001b[K\u001b[?25h\u001b[?2026l\u001b[?2026h\u001b[?25l\u001b[1Gpulling manifest ⠙ \u001b[K\u001b[?25h\u001b[?2026l\u001b[?2026h\u001b[?25l\u001b[1Gpulling manifest ⠹ \u001b[K\u001b[?25h\u001b[?2026l\u001b[?2026h\u001b[?25l\u001b[1Gpulling manifest ⠸ \u001b[K\u001b[?25h\u001b[?2026l\u001b[?2026h\u001b[?25l\u001b[1Gpulling manifest ⠼ \u001b[K\u001b[?25h\u001b[?2026l\u001b[?2026h\u001b[?25l\u001b[1Gpulling manifest ⠴ \u001b[K\u001b[?25h\u001b[?2026l\u001b[?2026h\u001b[?25l\u001b[1Gpulling manifest ⠦ \u001b[K\u001b[?25h\u001b[?2026l\u001b[?2026h\u001b[?25l\u001b[1Gpulling manifest ⠧ \u001b[K\u001b[?25h\u001b[?2026l\u001b[?2026h\u001b[?25l\u001b[1Gpulling manifest ⠇ \u001b[K\u001b[?25h\u001b[?2026l\u001b[?2026h\u001b[?25l\u001b[1Gpulling manifest ⠏ \u001b[K\u001b[?25h\u001b[?2026l\u001b[?2026h\u001b[?25l\u001b[1Gpulling manifest ⠋ \u001b[K\u001b[?25h\u001b[?2026l\u001b[?2026h\u001b[?25l\u001b[1Gpulling manifest ⠙ \u001b[K\u001b[?25h\u001b[?2026l\u001b[?2026h\u001b[?25l\u001b[1Gpulling manifest ⠹ \u001b[K\u001b[?25h\u001b[?2026l\u001b[?2026h\u001b[?25l\u001b[1Gpulling manifest ⠸ \u001b[K\u001b[?25h\u001b[?2026l\u001b[?2026h\u001b[?25l\u001b[1Gpulling manifest ⠼ \u001b[K\u001b[?25h\u001b[?2026l\u001b[?2026h\u001b[?25l\u001b[1Gpulling manifest ⠴ \u001b[K\u001b[?25h\u001b[?2026l\u001b[?2026h\u001b[?25l\u001b[1Gpulling manifest ⠦ \u001b[K\u001b[?25h\u001b[?2026l\u001b[?2026h\u001b[?25l\u001b[1Gpulling manifest ⠧ \u001b[K\u001b[?25h\u001b[?2026l\u001b[?2026h\u001b[?25l\u001b[1Gpulling manifest ⠇ \u001b[K\u001b[?25h\u001b[?2026l\u001b[?2026h\u001b[?25l\u001b[1Gpulling manifest ⠏ \u001b[K\u001b[?25h\u001b[?2026l\u001b[?2026h\u001b[?25l\u001b[1Gpulling manifest ⠋ \u001b[K\u001b[?25h\u001b[?2026l\u001b[?2026h\u001b[?25l\u001b[1Gpulling manifest ⠙ \u001b[K\u001b[?25h\u001b[?2026l\u001b[?2026h\u001b[?25l\u001b[1Gpulling manifest ⠹ \u001b[K\u001b[?25h\u001b[?2026l\u001b[?2026h\u001b[?25l\u001b[1Gpulling manifest ⠸ \u001b[K\u001b[?25h\u001b[?2026l\u001b[?2026h\u001b[?25l\u001b[1Gpulling manifest ⠼ \u001b[K\u001b[?25h\u001b[?2026l\u001b[?2026h\u001b[?25l\u001b[1Gpulling manifest ⠴ \u001b[K\u001b[?25h\u001b[?2026l\u001b[?2026h\u001b[?25l\u001b[1Gpulling manifest ⠦ \u001b[K\u001b[?25h\u001b[?2026l\u001b[?2026h\u001b[?25l\u001b[1Gpulling manifest ⠧ \u001b[K\u001b[?25h\u001b[?2026l\u001b[?2026h\u001b[?25l\u001b[1Gpulling manifest ⠇ \u001b[K\u001b[?25h\u001b[?2026l\u001b[?2026h\u001b[?25l\u001b[1Gpulling manifest ⠏ \u001b[K\u001b[?25h\u001b[?2026l\u001b[?2026h\u001b[?25l\u001b[1Gpulling manifest ⠋ \u001b[K\u001b[?25h\u001b[?2026l\u001b[?2026h\u001b[?25l\u001b[1Gpulling manifest ⠙ \u001b[K\u001b[?25h\u001b[?2026l\u001b[?2026h\u001b[?25l\u001b[1Gpulling manifest ⠹ \u001b[K\u001b[?25h\u001b[?2026l\u001b[?2026h\u001b[?25l\u001b[1Gpulling manifest ⠸ \u001b[K\u001b[?25h\u001b[?2026l\u001b[?2026h\u001b[?25l\u001b[1Gpulling manifest ⠼ \u001b[K\u001b[?25h\u001b[?2026l\u001b[?2026h\u001b[?25l\u001b[1Gpulling manifest ⠴ \u001b[K\u001b[?25h\u001b[?2026l\u001b[?2026h\u001b[?25l\u001b[1Gpulling manifest ⠦ \u001b[K\u001b[?25h\u001b[?2026l\u001b[?2026h\u001b[?25l\u001b[1Gpulling manifest ⠧ \u001b[K\u001b[?25h\u001b[?2026l\u001b[?2026h\u001b[?25l\u001b[1Gpulling manifest ⠇ \u001b[K\u001b[?25h\u001b[?2026l\u001b[?2026h\u001b[?25l\u001b[1Gpulling manifest ⠏ \u001b[K\u001b[?25h\u001b[?2026l\u001b[?2026h\u001b[?25l\u001b[1Gpulling manifest ⠋ \u001b[K\u001b[?25h\u001b[?2026l\u001b[?2026h\u001b[?25l\u001b[1Gpulling manifest ⠙ \u001b[K\u001b[?25h\u001b[?2026l\u001b[?2026h\u001b[?25l\u001b[1Gpulling manifest ⠹ \u001b[K\u001b[?25h\u001b[?2026l\u001b[?2026h\u001b[?25l\u001b[1Gpulling manifest ⠸ \u001b[K\u001b[?25h\u001b[?2026l\u001b[?2026h\u001b[?25l\u001b[1Gpulling manifest ⠼ \u001b[K\u001b[?25h\u001b[?2026l\u001b[?2026h\u001b[?25l\u001b[1Gpulling manifest ⠴ \u001b[K\u001b[?25h\u001b[?2026l\u001b[?2026h\u001b[?25l\u001b[1Gpulling manifest ⠦ \u001b[K\u001b[?25h\u001b[?2026l\u001b[?2026h\u001b[?25l\u001b[1Gpulling manifest ⠧ \u001b[K\u001b[?25h\u001b[?2026l\u001b[?2026h\u001b[?25l\u001b[1Gpulling manifest ⠇ \u001b[K\u001b[?25h\u001b[?2026l\u001b[?2026h\u001b[?25l\u001b[1Gpulling manifest ⠏ \u001b[K\u001b[?25h\u001b[?2026l\u001b[?2026h\u001b[?25l\u001b[1Gpulling manifest ⠋ \u001b[K\u001b[?25h\u001b[?2026l\u001b[?2026h\u001b[?25l\u001b[1Gpulling manifest ⠙ \u001b[K\u001b[?25h\u001b[?2026l\u001b[?2026h\u001b[?25l\u001b[1Gpulling manifest ⠹ \u001b[K\u001b[?25h\u001b[?2026l\u001b[?2026h\u001b[?25l\u001b[1Gpulling manifest ⠸ \u001b[K\u001b[?25h\u001b[?2026l\u001b[?2026h\u001b[?25l\u001b[1Gpulling manifest ⠼ \u001b[K\u001b[?25h\u001b[?2026l\u001b[?2026h\u001b[?25l\u001b[1Gpulling manifest ⠴ \u001b[K\u001b[?25h\u001b[?2026l\u001b[?2026h\u001b[?25l\u001b[1Gpulling manifest ⠦ \u001b[K\u001b[?25h\u001b[?2026l\u001b[?2026h\u001b[?25l\u001b[1Gpulling manifest ⠧ \u001b[K\u001b[?25h\u001b[?2026l\u001b[?2026h\u001b[?25l\u001b[1Gpulling manifest ⠇ \u001b[K\u001b[?25h\u001b[?2026l\u001b[?2026h\u001b[?25l\u001b[1Gpulling manifest ⠏ \u001b[K\u001b[?25h\u001b[?2026l\u001b[?2026h\u001b[?25l\u001b[1Gpulling manifest ⠋ \u001b[K\u001b[?25h\u001b[?2026l\u001b[?2026h\u001b[?25l\u001b[1Gpulling manifest ⠙ \u001b[K\u001b[?25h\u001b[?2026l\u001b[?2026h\u001b[?25l\u001b[1Gpulling manifest ⠹ \u001b[K\u001b[?25h\u001b[?2026l\u001b[?2026h\u001b[?25l\u001b[1Gpulling manifest ⠸ \u001b[K\u001b[?25h\u001b[?2026l\u001b[?2026h\u001b[?25l\u001b[1Gpulling manifest ⠼ \u001b[K\u001b[?25h\u001b[?2026l\u001b[?2026h\u001b[?25l\u001b[1Gpulling manifest ⠴ \u001b[K\u001b[?25h\u001b[?2026l\u001b[?2026h\u001b[?25l\u001b[1Gpulling manifest ⠦ \u001b[K\u001b[?25h\u001b[?2026l\u001b[?2026h\u001b[?25l\u001b[1Gpulling manifest ⠧ \u001b[K\u001b[?25h\u001b[?2026l\u001b[?2026h\u001b[?25l\u001b[1Gpulling manifest ⠇ \u001b[K\u001b[?25h\u001b[?2026l\u001b[?2026h\u001b[?25l\u001b[1Gpulling manifest ⠏ \u001b[K\u001b[?25h\u001b[?2026l\u001b[?2026h\u001b[?25l\u001b[1Gpulling manifest ⠋ \u001b[K\u001b[?25h\u001b[?2026l\u001b[?2026h\u001b[?25l\u001b[1Gpulling manifest ⠙ \u001b[K\u001b[?25h\u001b[?2026l\u001b[?2026h\u001b[?25l\u001b[1Gpulling manifest ⠹ \u001b[K\u001b[?25h\u001b[?2026l\u001b[?2026h\u001b[?25l\u001b[1Gpulling manifest ⠸ \u001b[K\u001b[?25h\u001b[?2026l\u001b[?2026h\u001b[?25l\u001b[1Gpulling manifest ⠼ \u001b[K\u001b[?25h\u001b[?2026l\u001b[?2026h\u001b[?25l\u001b[1Gpulling manifest ⠴ \u001b[K\u001b[?25h\u001b[?2026l\u001b[?2026h\u001b[?25l\u001b[1Gpulling manifest ⠦ \u001b[K\u001b[?25h\u001b[?2026l\u001b[?2026h\u001b[?25l\u001b[1Gpulling manifest ⠧ \u001b[K\u001b[?25h\u001b[?2026l\u001b[?2026h\u001b[?25l\u001b[1Gpulling manifest ⠇ \u001b[K\u001b[?25h\u001b[?2026l\u001b[?2026h\u001b[?25l\u001b[1Gpulling manifest ⠏ \u001b[K\u001b[?25h\u001b[?2026l\u001b[?2026h\u001b[?25l\u001b[1Gpulling manifest ⠋ \u001b[K\u001b[?25h\u001b[?2026l\u001b[?2026h\u001b[?25l\u001b[1Gpulling manifest ⠙ \u001b[K\u001b[?25h\u001b[?2026l\u001b[?2026h\u001b[?25l\u001b[1Gpulling manifest ⠹ \u001b[K\u001b[?25h\u001b[?2026l\u001b[?2026h\u001b[?25l\u001b[1Gpulling manifest ⠸ \u001b[K\u001b[?25h\u001b[?2026l\u001b[?2026h\u001b[?25l\u001b[1Gpulling manifest ⠼ \u001b[K\u001b[?25h\u001b[?2026l\u001b[?2026h\u001b[?25l\u001b[1Gpulling manifest ⠴ \u001b[K\u001b[?25h\u001b[?2026l\u001b[?2026h\u001b[?25l\u001b[1Gpulling manifest ⠦ \u001b[K\u001b[?25h\u001b[?2026l\u001b[?2026h\u001b[?25l\u001b[1Gpulling manifest ⠧ \u001b[K\u001b[?25h\u001b[?2026l\u001b[?2026h\u001b[?25l\u001b[1Gpulling manifest ⠇ \u001b[K\u001b[?25h\u001b[?2026l\u001b[?2026h\u001b[?25l\u001b[1Gpulling manifest ⠏ \u001b[K\u001b[?25h\u001b[?2026l\u001b[?2026h\u001b[?25l\u001b[1Gpulling manifest ⠋ \u001b[K\u001b[?25h\u001b[?2026l\u001b[?2026h\u001b[?25l\u001b[1Gpulling manifest ⠙ \u001b[K\u001b[?25h\u001b[?2026l\u001b[?2026h\u001b[?25l\u001b[1Gpulling manifest ⠹ \u001b[K\u001b[?25h\u001b[?2026l\u001b[?2026h\u001b[?25l\u001b[1Gpulling manifest ⠸ \u001b[K\u001b[?25h\u001b[?2026l\u001b[?2026h\u001b[?25l\u001b[1Gpulling manifest ⠼ \u001b[K\u001b[?25h\u001b[?2026l\u001b[?2026h\u001b[?25l\u001b[1Gpulling manifest ⠴ \u001b[K\u001b[?25h\u001b[?2026l\u001b[?2026h\u001b[?25l\u001b[1Gpulling manifest ⠦ \u001b[K\u001b[?25h\u001b[?2026l\u001b[?2026h\u001b[?25l\u001b[1Gpulling manifest ⠧ \u001b[K\u001b[?25h\u001b[?2026l\u001b[?2026h\u001b[?25l\u001b[1Gpulling manifest ⠇ \u001b[K\u001b[?25h\u001b[?2026l\u001b[?2026h\u001b[?25l\u001b[1Gpulling manifest ⠏ \u001b[K\u001b[?25h\u001b[?2026l\u001b[?2026h\u001b[?25l\u001b[1Gpulling manifest ⠋ \u001b[K\u001b[?25h\u001b[?2026l\u001b[?2026h\u001b[?25l\u001b[1Gpulling manifest ⠙ \u001b[K\u001b[?25h\u001b[?2026l\u001b[?2026h\u001b[?25l\u001b[1Gpulling manifest ⠹ \u001b[K\u001b[?25h\u001b[?2026l\u001b[?2026h\u001b[?25l\u001b[1Gpulling manifest ⠸ \u001b[K\u001b[?25h\u001b[?2026l\u001b[?2026h\u001b[?25l\u001b[1Gpulling manifest ⠼ \u001b[K\u001b[?25h\u001b[?2026l\u001b[?2026h\u001b[?25l\u001b[1Gpulling manifest ⠴ \u001b[K\u001b[?25h\u001b[?2026l\u001b[?2026h\u001b[?25l\u001b[1Gpulling manifest ⠦ \u001b[K\u001b[?25h\u001b[?2026l\u001b[?2026h\u001b[?25l\u001b[1Gpulling manifest ⠧ \u001b[K\u001b[?25h\u001b[?2026l\u001b[?2026h\u001b[?25l\u001b[1Gpulling manifest ⠇ \u001b[K\u001b[?25h\u001b[?2026l\u001b[?2026h\u001b[?25l\u001b[1Gpulling manifest ⠏ \u001b[K\u001b[?25h\u001b[?2026l\u001b[?2026h\u001b[?25l\u001b[1Gpulling manifest ⠋ \u001b[K\u001b[?25h\u001b[?2026l\u001b[?2026h\u001b[?25l\u001b[1Gpulling manifest ⠙ \u001b[K\u001b[?25h\u001b[?2026l\u001b[?2026h\u001b[?25l\u001b[1Gpulling manifest ⠹ \u001b[K\u001b[?25h\u001b[?2026l\u001b[?2026h\u001b[?25l\u001b[1Gpulling manifest ⠸ \u001b[K\u001b[?25h\u001b[?2026l\u001b[?2026h\u001b[?25l\u001b[1Gpulling manifest ⠼ \u001b[K\u001b[?25h\u001b[?2026l\u001b[?2026h\u001b[?25l\u001b[1Gpulling manifest ⠴ \u001b[K\u001b[?25h\u001b[?2026l\u001b[?2026h\u001b[?25l\u001b[1Gpulling manifest ⠦ \u001b[K\u001b[?25h\u001b[?2026l\u001b[?2026h\u001b[?25l\u001b[1Gpulling manifest ⠧ \u001b[K\u001b[?25h\u001b[?2026l\u001b[?2026h\u001b[?25l\u001b[1Gpulling manifest ⠇ \u001b[K\u001b[?25h\u001b[?2026l\u001b[?2026h\u001b[?25l\u001b[1Gpulling manifest ⠏ \u001b[K\u001b[?25h\u001b[?2026l\u001b[?2026h\u001b[?25l\u001b[1Gpulling manifest ⠋ \u001b[K\u001b[?25h\u001b[?2026l\u001b[?2026h\u001b[?25l\u001b[1Gpulling manifest ⠙ \u001b[K\u001b[?25h\u001b[?2026l\u001b[?2026h\u001b[?25l\u001b[1Gpulling manifest ⠹ \u001b[K\u001b[?25h\u001b[?2026l\u001b[?2026h\u001b[?25l\u001b[1Gpulling manifest ⠸ \u001b[K\u001b[?25h\u001b[?2026l\u001b[?2026h\u001b[?25l\u001b[1Gpulling manifest ⠼ \u001b[K\u001b[?25h\u001b[?2026l\u001b[?2026h\u001b[?25l\u001b[1Gpulling manifest ⠴ \u001b[K\u001b[?25h\u001b[?2026l\u001b[?2026h\u001b[?25l\u001b[1Gpulling manifest ⠦ \u001b[K\u001b[?25h\u001b[?2026l\u001b[?2026h\u001b[?25l\u001b[1Gpulling manifest ⠧ \u001b[K\u001b[?25h\u001b[?2026l\u001b[?2026h\u001b[?25l\u001b[1Gpulling manifest ⠇ \u001b[K\u001b[?25h\u001b[?2026l\u001b[?2026h\u001b[?25l\u001b[1Gpulling manifest ⠏ \u001b[K\u001b[?25h\u001b[?2026l\u001b[?2026h\u001b[?25l\u001b[1Gpulling manifest ⠋ \u001b[K\u001b[?25h\u001b[?2026l\u001b[?2026h\u001b[?25l\u001b[1Gpulling manifest ⠙ \u001b[K\u001b[?25h\u001b[?2026l\u001b[?2026h\u001b[?25l\u001b[1Gpulling manifest ⠹ \u001b[K\u001b[?25h\u001b[?2026l\u001b[?2026h\u001b[?25l\u001b[1Gpulling manifest ⠸ \u001b[K\u001b[?25h\u001b[?2026l\u001b[?2026h\u001b[?25l\u001b[1Gpulling manifest ⠼ \u001b[K\u001b[?25h\u001b[?2026l\u001b[?2026h\u001b[?25l\u001b[1Gpulling manifest ⠴ \u001b[K\u001b[?25h\u001b[?2026l\u001b[?2026h\u001b[?25l\u001b[1Gpulling manifest ⠦ \u001b[K\u001b[?25h\u001b[?2026l\u001b[?2026h\u001b[?25l\u001b[1Gpulling manifest ⠧ \u001b[K\u001b[?25h\u001b[?2026l\u001b[?2026h\u001b[?25l\u001b[1Gpulling manifest ⠇ \u001b[K\u001b[?25h\u001b[?2026l\u001b[?2026h\u001b[?25l\u001b[1Gpulling manifest ⠏ \u001b[K\u001b[?25h\u001b[?2026l\u001b[?2026h\u001b[?25l\u001b[1Gpulling manifest ⠋ \u001b[K\u001b[?25h\u001b[?2026l\u001b[?2026h\u001b[?25l\u001b[1Gpulling manifest ⠙ \u001b[K\u001b[?25h\u001b[?2026l\u001b[?2026h\u001b[?25l\u001b[1Gpulling manifest ⠹ \u001b[K\u001b[?25h\u001b[?2026l\u001b[?2026h\u001b[?25l\u001b[1Gpulling manifest ⠸ \u001b[K\u001b[?25h\u001b[?2026l\u001b[?2026h\u001b[?25l\u001b[1Gpulling manifest ⠼ \u001b[K\u001b[?25h\u001b[?2026l\u001b[?2026h\u001b[?25l\u001b[1Gpulling manifest ⠴ \u001b[K\u001b[?25h\u001b[?2026l\u001b[?2026h\u001b[?25l\u001b[1Gpulling manifest ⠦ \u001b[K\u001b[?25h\u001b[?2026l\u001b[?2026h\u001b[?25l\u001b[1Gpulling manifest ⠧ \u001b[K\u001b[?25h\u001b[?2026l\u001b[?2026h\u001b[?25l\u001b[1Gpulling manifest ⠇ \u001b[K\u001b[?25h\u001b[?2026l\u001b[?2026h\u001b[?25l\u001b[1Gpulling manifest ⠏ \u001b[K\u001b[?25h\u001b[?2026l\u001b[?2026h\u001b[?25l\u001b[1Gpulling manifest ⠋ \u001b[K\u001b[?25h\u001b[?2026l\u001b[?2026h\u001b[?25l\u001b[1Gpulling manifest ⠙ \u001b[K\u001b[?25h\u001b[?2026l\u001b[?2026h\u001b[?25l\u001b[1Gpulling manifest ⠹ \u001b[K\u001b[?25h\u001b[?2026l\u001b[?2026h\u001b[?25l\u001b[1Gpulling manifest ⠸ \u001b[K\u001b[?25h\u001b[?2026l\u001b[?2026h\u001b[?25l\u001b[1Gpulling manifest ⠼ \u001b[K\u001b[?25h\u001b[?2026l\u001b[?2026h\u001b[?25l\u001b[1Gpulling manifest ⠴ \u001b[K\u001b[?25h\u001b[?2026l\u001b[?2026h\u001b[?25l\u001b[1Gpulling manifest ⠦ \u001b[K\u001b[?25h\u001b[?2026l\u001b[?2026h\u001b[?25l\u001b[1Gpulling manifest ⠧ \u001b[K\u001b[?25h\u001b[?2026l\u001b[?2026h\u001b[?25l\u001b[1Gpulling manifest ⠇ \u001b[K\u001b[?25h\u001b[?2026l\u001b[?2026h\u001b[?25l\u001b[1Gpulling manifest ⠏ \u001b[K\u001b[?25h\u001b[?2026l\u001b[?2026h\u001b[?25l\u001b[1Gpulling manifest ⠋ \u001b[K\u001b[?25h\u001b[?2026l\u001b[?2026h\u001b[?25l\u001b[1Gpulling manifest ⠙ \u001b[K\u001b[?25h\u001b[?2026l\u001b[?2026h\u001b[?25l\u001b[1Gpulling manifest ⠹ \u001b[K\u001b[?25h\u001b[?2026l\u001b[?2026h\u001b[?25l\u001b[1Gpulling manifest ⠸ \u001b[K\u001b[?25h\u001b[?2026l\u001b[?2026h\u001b[?25l\u001b[1Gpulling manifest ⠼ \u001b[K\u001b[?25h\u001b[?2026l\u001b[?2026h\u001b[?25l\u001b[1Gpulling manifest ⠴ \u001b[K\u001b[?25h\u001b[?2026l\u001b[?2026h\u001b[?25l\u001b[1Gpulling manifest ⠦ \u001b[K\u001b[?25h\u001b[?2026l\u001b[?2026h\u001b[?25l\u001b[1Gpulling manifest ⠧ \u001b[K\u001b[?25h\u001b[?2026l\u001b[?2026h\u001b[?25l\u001b[1Gpulling manifest ⠇ \u001b[K\u001b[?25h\u001b[?2026l\u001b[?2026h\u001b[?25l\u001b[1Gpulling manifest ⠏ \u001b[K\u001b[?25h\u001b[?2026l\u001b[?2026h\u001b[?25l\u001b[1Gpulling manifest ⠋ \u001b[K\u001b[?25h\u001b[?2026l\u001b[?2026h\u001b[?25l\u001b[1Gpulling manifest ⠙ \u001b[K\u001b[?25h\u001b[?2026l\u001b[?2026h\u001b[?25l\u001b[1Gpulling manifest ⠹ \u001b[K\u001b[?25h\u001b[?2026l\u001b[?2026h\u001b[?25l\u001b[1Gpulling manifest ⠸ \u001b[K\u001b[?25h\u001b[?2026l\u001b[?2026h\u001b[?25l\u001b[1Gpulling manifest ⠼ \u001b[K\u001b[?25h\u001b[?2026l\u001b[?2026h\u001b[?25l\u001b[1Gpulling manifest ⠴ \u001b[K\u001b[?25h\u001b[?2026l\u001b[?2026h\u001b[?25l\u001b[1Gpulling manifest ⠦ \u001b[K\u001b[?25h\u001b[?2026l\u001b[?2026h\u001b[?25l\u001b[1Gpulling manifest ⠧ \u001b[K\u001b[?25h\u001b[?2026l\u001b[?2026h\u001b[?25l\u001b[1Gpulling manifest ⠇ \u001b[K\u001b[?25h\u001b[?2026l\u001b[?2026h\u001b[?25l\u001b[1Gpulling manifest ⠏ \u001b[K\u001b[?25h\u001b[?2026l\u001b[?2026h\u001b[?25l\u001b[1Gpulling manifest ⠋ \u001b[K\u001b[?25h\u001b[?2026l\u001b[?2026h\u001b[?25l\u001b[1Gpulling manifest ⠙ \u001b[K\u001b[?25h\u001b[?2026l\u001b[?2026h\u001b[?25l\u001b[1Gpulling manifest ⠹ \u001b[K\u001b[?25h\u001b[?2026l\u001b[?2026h\u001b[?25l\u001b[1Gpulling manifest ⠸ \u001b[K\u001b[?25h\u001b[?2026l\u001b[?2026h\u001b[?25l\u001b[1Gpulling manifest ⠼ \u001b[K\u001b[?25h\u001b[?2026l\u001b[?2026h\u001b[?25l\u001b[1Gpulling manifest ⠴ \u001b[K\u001b[?25h\u001b[?2026l\u001b[?2026h\u001b[?25l\u001b[1Gpulling manifest ⠦ \u001b[K\u001b[?25h\u001b[?2026l\u001b[?2026h\u001b[?25l\u001b[1Gpulling manifest ⠧ \u001b[K\u001b[?25h\u001b[?2026l\u001b[?2026h\u001b[?25l\u001b[1Gpulling manifest ⠇ \u001b[K\u001b[?25h\u001b[?2026l\u001b[?2026h\u001b[?25l\u001b[1Gpulling manifest ⠏ \u001b[K\u001b[?25h\u001b[?2026l\u001b[?2026h\u001b[?25l\u001b[1Gpulling manifest ⠋ \u001b[K\u001b[?25h\u001b[?2026l\u001b[?2026h\u001b[?25l\u001b[1Gpulling manifest ⠙ \u001b[K\u001b[?25h\u001b[?2026l\u001b[?2026h\u001b[?25l\u001b[1Gpulling manifest ⠹ \u001b[K\u001b[?25h\u001b[?2026l\u001b[?2026h\u001b[?25l\u001b[1Gpulling manifest ⠸ \u001b[K\u001b[?25h\u001b[?2026l\u001b[?2026h\u001b[?25l\u001b[1Gpulling manifest ⠼ \u001b[K\u001b[?25h\u001b[?2026l\u001b[?2026h\u001b[?25l\u001b[1Gpulling manifest ⠴ \u001b[K\u001b[?25h\u001b[?2026l\u001b[?2026h\u001b[?25l\u001b[1Gpulling manifest ⠦ \u001b[K\u001b[?25h\u001b[?2026l\u001b[?2026h\u001b[?25l\u001b[1Gpulling manifest ⠧ \u001b[K\u001b[?25h\u001b[?2026l\u001b[?2026h\u001b[?25l\u001b[1Gpulling manifest ⠇ \u001b[K\u001b[?25h\u001b[?2026l\u001b[?2026h\u001b[?25l\u001b[1Gpulling manifest ⠏ \u001b[K\u001b[?25h\u001b[?2026l\u001b[?2026h\u001b[?25l\u001b[1Gpulling manifest ⠋ \u001b[K\u001b[?25h\u001b[?2026l\u001b[?2026h\u001b[?25l\u001b[1Gpulling manifest ⠙ \u001b[K\u001b[?25h\u001b[?2026l\u001b[?2026h\u001b[?25l\u001b[1Gpulling manifest ⠹ \u001b[K\u001b[?25h\u001b[?2026l\u001b[?2026h\u001b[?25l\u001b[1Gpulling manifest ⠸ \u001b[K\u001b[?25h\u001b[?2026l\u001b[?2026h\u001b[?25l\u001b[1Gpulling manifest ⠼ \u001b[K\u001b[?25h\u001b[?2026l\u001b[?2026h\u001b[?25l\u001b[1Gpulling manifest ⠴ \u001b[K\u001b[?25h\u001b[?2026l\u001b[?2026h\u001b[?25l\u001b[1Gpulling manifest ⠦ \u001b[K\u001b[?25h\u001b[?2026l\u001b[?2026h\u001b[?25l\u001b[1Gpulling manifest ⠧ \u001b[K\u001b[?25h\u001b[?2026l\u001b[?2026h\u001b[?25l\u001b[1Gpulling manifest ⠇ \u001b[K\u001b[?25h\u001b[?2026l\u001b[?2026h\u001b[?25l\u001b[1Gpulling manifest ⠏ \u001b[K\u001b[?25h\u001b[?2026l\u001b[?2026h\u001b[?25l\u001b[1Gpulling manifest ⠋ \u001b[K\u001b[?25h\u001b[?2026l\u001b[?2026h\u001b[?25l\u001b[1Gpulling manifest ⠙ \u001b[K\u001b[?25h\u001b[?2026l\u001b[?2026h\u001b[?25l\u001b[1Gpulling manifest ⠹ \u001b[K\u001b[?25h\u001b[?2026l\u001b[?2026h\u001b[?25l\u001b[1Gpulling manifest ⠸ \u001b[K\u001b[?25h\u001b[?2026l\u001b[?2026h\u001b[?25l\u001b[1Gpulling manifest ⠼ \u001b[K\u001b[?25h\u001b[?2026l\u001b[?2026h\u001b[?25l\u001b[1Gpulling manifest ⠴ \u001b[K\u001b[?25h\u001b[?2026l\u001b[?2026h\u001b[?25l\u001b[1Gpulling manifest ⠦ \u001b[K\u001b[?25h\u001b[?2026l\u001b[?2026h\u001b[?25l\u001b[1Gpulling manifest ⠧ \u001b[K\u001b[?25h\u001b[?2026l\u001b[?2026h\u001b[?25l\u001b[1Gpulling manifest ⠇ \u001b[K\u001b[?25h\u001b[?2026l\u001b[?2026h\u001b[?25l\u001b[1Gpulling manifest ⠏ \u001b[K\u001b[?25h\u001b[?2026l\u001b[?2026h\u001b[?25l\u001b[1Gpulling manifest ⠋ \u001b[K\u001b[?25h\u001b[?2026l\u001b[?2026h\u001b[?25l\u001b[1Gpulling manifest ⠙ \u001b[K\u001b[?25h\u001b[?2026l\u001b[?2026h\u001b[?25l\u001b[1Gpulling manifest ⠹ \u001b[K\u001b[?25h\u001b[?2026l\u001b[?2026h\u001b[?25l\u001b[1Gpulling manifest ⠸ \u001b[K\u001b[?25h\u001b[?2026l\u001b[?2026h\u001b[?25l\u001b[1Gpulling manifest ⠼ \u001b[K\u001b[?25h\u001b[?2026l\u001b[?2026h\u001b[?25l\u001b[1Gpulling manifest ⠴ \u001b[K\u001b[?25h\u001b[?2026l\u001b[?2026h\u001b[?25l\u001b[1Gpulling manifest ⠦ \u001b[K\u001b[?25h\u001b[?2026l\u001b[?2026h\u001b[?25l\u001b[1Gpulling manifest ⠧ \u001b[K\u001b[?25h\u001b[?2026l\u001b[?2026h\u001b[?25l\u001b[1Gpulling manifest ⠇ \u001b[K\u001b[?25h\u001b[?2026l\u001b[?2026h\u001b[?25l\u001b[1Gpulling manifest ⠏ \u001b[K\u001b[?25h\u001b[?2026l\u001b[?2026h\u001b[?25l\u001b[1Gpulling manifest ⠋ \u001b[K\u001b[?25h\u001b[?2026l\u001b[?2026h\u001b[?25l\u001b[1Gpulling manifest ⠙ \u001b[K\u001b[?25h\u001b[?2026l\u001b[?2026h\u001b[?25l\u001b[1Gpulling manifest ⠹ \u001b[K\u001b[?25h\u001b[?2026l\u001b[?2026h\u001b[?25l\u001b[1Gpulling manifest ⠸ \u001b[K\u001b[?25h\u001b[?2026l\u001b[?2026h\u001b[?25l\u001b[1Gpulling manifest ⠼ \u001b[K\u001b[?25h\u001b[?2026l\u001b[?2026h\u001b[?25l\u001b[1Gpulling manifest ⠴ \u001b[K\u001b[?25h\u001b[?2026l\u001b[?2026h\u001b[?25l\u001b[1Gpulling manifest ⠦ \u001b[K\u001b[?25h\u001b[?2026l\u001b[?2026h\u001b[?25l\u001b[1Gpulling manifest ⠧ \u001b[K\u001b[?25h\u001b[?2026l\u001b[?2026h\u001b[?25l\u001b[1Gpulling manifest ⠇ \u001b[K\u001b[?25h\u001b[?2026l\u001b[?2026h\u001b[?25l\u001b[1Gpulling manifest ⠏ \u001b[K\u001b[?25h\u001b[?2026l\u001b[?2026h\u001b[?25l\u001b[1Gpulling manifest ⠋ \u001b[K\u001b[?25h\u001b[?2026l\u001b[?2026h\u001b[?25l\u001b[1Gpulling manifest ⠙ \u001b[K\u001b[?25h\u001b[?2026l\u001b[?2026h\u001b[?25l\u001b[1Gpulling manifest ⠹ \u001b[K\u001b[?25h\u001b[?2026l\u001b[?2026h\u001b[?25l\u001b[1Gpulling manifest ⠸ \u001b[K\u001b[?25h\u001b[?2026l\u001b[?2026h\u001b[?25l\u001b[1Gpulling manifest ⠼ \u001b[K\u001b[?25h\u001b[?2026l\u001b[?2026h\u001b[?25l\u001b[1Gpulling manifest ⠴ \u001b[K\u001b[?25h\u001b[?2026l\u001b[?2026h\u001b[?25l\u001b[1Gpulling manifest ⠦ \u001b[K\u001b[?25h\u001b[?2026l\u001b[?2026h\u001b[?25l\u001b[1Gpulling manifest ⠧ \u001b[K\u001b[?25h\u001b[?2026l\u001b[?2026h\u001b[?25l\u001b[1Gpulling manifest ⠇ \u001b[K\u001b[?25h\u001b[?2026l\u001b[?2026h\u001b[?25l\u001b[1Gpulling manifest ⠏ \u001b[K\u001b[?25h\u001b[?2026l\u001b[?2026h\u001b[?25l\u001b[1Gpulling manifest ⠋ \u001b[K\u001b[?25h\u001b[?2026l\u001b[?2026h\u001b[?25l\u001b[1Gpulling manifest ⠙ \u001b[K\u001b[?25h\u001b[?2026l\u001b[?2026h\u001b[?25l\u001b[1Gpulling manifest ⠹ \u001b[K\u001b[?25h\u001b[?2026l\u001b[?2026h\u001b[?25l\u001b[1Gpulling manifest ⠸ \u001b[K\u001b[?25h\u001b[?2026l\u001b[?2026h\u001b[?25l\u001b[1Gpulling manifest ⠼ \u001b[K\u001b[?25h\u001b[?2026l\u001b[?2026h\u001b[?25l\u001b[1Gpulling manifest ⠴ \u001b[K\u001b[?25h\u001b[?2026l\u001b[?2026h\u001b[?25l\u001b[1Gpulling manifest ⠦ \u001b[K\u001b[?25h\u001b[?2026l\u001b[?2026h\u001b[?25l\u001b[1Gpulling manifest ⠧ \u001b[K\u001b[?25h\u001b[?2026l\u001b[?2026h\u001b[?25l\u001b[1Gpulling manifest ⠇ \u001b[K\u001b[?25h\u001b[?2026l\u001b[?2026h\u001b[?25l\u001b[1Gpulling manifest ⠏ \u001b[K\u001b[?25h\u001b[?2026l\u001b[?2026h\u001b[?25l\u001b[1Gpulling manifest ⠋ \u001b[K\u001b[?25h\u001b[?2026l\u001b[?2026h\u001b[?25l\u001b[1Gpulling manifest ⠙ \u001b[K\u001b[?25h\u001b[?2026l\u001b[?2026h\u001b[?25l\u001b[1Gpulling manifest ⠹ \u001b[K\u001b[?25h\u001b[?2026l\u001b[?2026h\u001b[?25l\u001b[1Gpulling manifest ⠸ \u001b[K\u001b[?25h\u001b[?2026l\u001b[?2026h\u001b[?25l\u001b[1Gpulling manifest ⠼ \u001b[K\u001b[?25h\u001b[?2026l\u001b[?2026h\u001b[?25l\u001b[1Gpulling manifest ⠴ \u001b[K\u001b[?25h\u001b[?2026l\u001b[?2026h\u001b[?25l\u001b[1Gpulling manifest ⠦ \u001b[K\u001b[?25h\u001b[?2026l\u001b[?2026h\u001b[?25l\u001b[1Gpulling manifest ⠧ \u001b[K\u001b[?25h\u001b[?2026l\u001b[?2026h\u001b[?25l\u001b[1Gpulling manifest ⠇ \u001b[K\u001b[?25h\u001b[?2026l\u001b[?2026h\u001b[?25l\u001b[1Gpulling manifest ⠏ \u001b[K\u001b[?25h\u001b[?2026l\u001b[?2026h\u001b[?25l\u001b[1Gpulling manifest ⠋ \u001b[K\u001b[?25h\u001b[?2026l\u001b[?2026h\u001b[?25l\u001b[1Gpulling manifest ⠙ \u001b[K\u001b[?25h\u001b[?2026l\u001b[?2026h\u001b[?25l\u001b[1Gpulling manifest ⠹ \u001b[K\u001b[?25h\u001b[?2026l\u001b[?2026h\u001b[?25l\u001b[1Gpulling manifest ⠸ \u001b[K\u001b[?25h\u001b[?2026l\u001b[?2026h\u001b[?25l\u001b[1Gpulling manifest ⠼ \u001b[K\u001b[?25h\u001b[?2026l\u001b[?2026h\u001b[?25l\u001b[1Gpulling manifest ⠴ \u001b[K\u001b[?25h\u001b[?2026l\u001b[?2026h\u001b[?25l\u001b[1Gpulling manifest ⠦ \u001b[K\u001b[?25h\u001b[?2026l\u001b[?2026h\u001b[?25l\u001b[1Gpulling manifest ⠧ \u001b[K\u001b[?25h\u001b[?2026l\u001b[?2026h\u001b[?25l\u001b[1Gpulling manifest ⠇ \u001b[K\u001b[?25h\u001b[?2026l\u001b[?2026h\u001b[?25l\u001b[1Gpulling manifest ⠏ \u001b[K\u001b[?25h\u001b[?2026l\u001b[?2026h\u001b[?25l\u001b[1Gpulling manifest \u001b[K\u001b[?25h\u001b[?2026l\n",
      "Error: pull model manifest: Get \"https://registry.ollama.ai/v2/library/llama3.2/manifests/latest\": dial tcp [2606:4700:3036::6815:4be3]:443: i/o timeout\n"
     ]
    },
    {
     "name": "stdout",
     "output_type": "stream",
     "text": [
      "2 + 2 = 4\n"
     ]
    }
   ],
   "source": [
    "# Here it is - see the base_url\n",
    "# You need to do this one time on your computer\n",
    "!ollama pull llama3.2\n",
    "\n",
    "from openai import OpenAI\n",
    "\n",
    "MODEL = \"llama3.2\"\n",
    "openai = OpenAI(base_url=\"http://localhost:11434/v1\", api_key=\"ollama\")\n",
    "\n",
    "response = openai.chat.completions.create(\n",
    " model=MODEL,\n",
    " messages=[{\"role\": \"user\", \"content\": \"What is 2 + 2?\"}]\n",
    ")\n",
    "print(response.choices[0].message.content)\n"
   ]
  },
  {
   "cell_type": "code",
   "execution_count": 31,
   "id": "86b76180",
   "metadata": {},
   "outputs": [
    {
     "name": "stdout",
     "output_type": "stream",
     "text": [
      "Why was the data scientist bad at poker?\n",
      "\n",
      "Because they always wanted to normalize the pot!\n",
      "\n"
     ]
    }
   ],
   "source": [
    "gemini=genai.GenerativeModel(\n",
    "         model_name='gemini-2.0-flash',\n",
    "         system_instruction=system_message\n",
    "\n",
    ")\n",
    "response=gemini.generate_content(user_prompt)\n",
    "print(response.text)"
   ]
  },
  {
   "cell_type": "code",
   "execution_count": 32,
   "id": "e8389417",
   "metadata": {},
   "outputs": [],
   "source": [
    "llama_model=\"llama3.2\"\n",
    "gemini_model=\"gemini-2.0-flash\"\n",
    "\n",
    "llama_system= \"You are a chatbot who is very argumentative; \\\n",
    "you disagree with anything in the conversation and you challenge everything, in a snarky way.\"\n",
    "\n",
    "gemini_system=\"You are a very polite, courteous chatbot. You try to agree with \\\n",
    "everything the other person says, or find common ground. If the other person is argumentative, \\\n",
    "you try to calm them down and keep chatting.\"\n",
    "\n",
    "llama_messages=[\"Hi there\"]\n",
    "gemini_messages=[\"Hi\"]\n"
   ]
  },
  {
   "cell_type": "code",
   "execution_count": 33,
   "id": "50eaf6fb",
   "metadata": {},
   "outputs": [],
   "source": [
    "def llama():\n",
    "        messages = [{\"role\": \"system\", \"content\": llama_system}] \n",
    "        for llama,gemini in zip(llama_messages,gemini_messages):\n",
    "                messages.append({\"role\":\"assistant\",\"content\":llama})\n",
    "                messages.append({\"role\":\"user\",\"content\":gemini})\n",
    "        completion=openai.chat.completions.create(\n",
    "                 model=llama_model,\n",
    "                 messages=messages\n",
    "         )\n",
    "        return completion.choices[0].message.content\n"
   ]
  },
  {
   "cell_type": "code",
   "execution_count": 34,
   "id": "05731d15",
   "metadata": {},
   "outputs": [
    {
     "data": {
      "text/plain": [
       "\"Oh boy, this should be good. Hi? What a completely original opening line. I'm sure that wasn't something you rehearsed in front of the mirror or anything. How about we get into the meat of our conversation and see if I can even bother to pretend to listen to whatever trite statements come out of your mouth.\""
      ]
     },
     "execution_count": 34,
     "metadata": {},
     "output_type": "execute_result"
    }
   ],
   "source": [
    "llama()"
   ]
  },
  {
   "cell_type": "code",
   "execution_count": 52,
   "id": "eb61efd7",
   "metadata": {},
   "outputs": [
    {
     "ename": "TypeError",
     "evalue": "Could not create `Blob`, expected `Blob`, `dict` or an `Image` type(`PIL.Image.Image` or `IPython.display.Image`).\nGot a: <class 'google.ai.generativelanguage_v1beta.types.content.Content'>\nValue: parts {\n  text: \"Hi there\"\n}\nrole: \"user\"\n",
     "output_type": "error",
     "traceback": [
      "\u001b[31m---------------------------------------------------------------------------\u001b[39m",
      "\u001b[31mTypeError\u001b[39m                                 Traceback (most recent call last)",
      "\u001b[36mCell\u001b[39m\u001b[36m \u001b[39m\u001b[32mIn[52]\u001b[39m\u001b[32m, line 24\u001b[39m\n\u001b[32m     21\u001b[39m     \u001b[38;5;28mprint\u001b[39m(response.text)\n\u001b[32m     23\u001b[39m \u001b[38;5;66;03m# Call the function\u001b[39;00m\n\u001b[32m---> \u001b[39m\u001b[32m24\u001b[39m \u001b[43mgemini\u001b[49m\u001b[43m(\u001b[49m\u001b[43m)\u001b[49m\n",
      "\u001b[36mCell\u001b[39m\u001b[36m \u001b[39m\u001b[32mIn[52]\u001b[39m\u001b[32m, line 16\u001b[39m, in \u001b[36mgemini\u001b[39m\u001b[34m()\u001b[39m\n\u001b[32m     13\u001b[39m model = genai.GenerativeModel(model_name=\u001b[33m\"\u001b[39m\u001b[33mgemini-2.0-flash\u001b[39m\u001b[33m\"\u001b[39m)\n\u001b[32m     15\u001b[39m \u001b[38;5;66;03m# Use the chat method to include history\u001b[39;00m\n\u001b[32m---> \u001b[39m\u001b[32m16\u001b[39m chat = \u001b[43mmodel\u001b[49m\u001b[43m.\u001b[49m\u001b[43mstart_chat\u001b[49m\u001b[43m(\u001b[49m\u001b[43mhistory\u001b[49m\u001b[43m=\u001b[49m\u001b[43mmessages\u001b[49m\u001b[43m)\u001b[49m\n\u001b[32m     18\u001b[39m \u001b[38;5;66;03m# Generate a response\u001b[39;00m\n\u001b[32m     19\u001b[39m response = chat.send_message(user_prompt)\n",
      "\u001b[36mFile \u001b[39m\u001b[32mc:\\Users\\Sri Lakshmi Prasanna\\anaconda3\\envs\\llmsenv\\Lib\\site-packages\\google\\generativeai\\generative_models.py:474\u001b[39m, in \u001b[36mGenerativeModel.start_chat\u001b[39m\u001b[34m(self, history, enable_automatic_function_calling)\u001b[39m\n\u001b[32m    470\u001b[39m \u001b[38;5;28;01mif\u001b[39;00m \u001b[38;5;28mself\u001b[39m._generation_config.get(\u001b[33m\"\u001b[39m\u001b[33mcandidate_count\u001b[39m\u001b[33m\"\u001b[39m, \u001b[32m1\u001b[39m) > \u001b[32m1\u001b[39m:\n\u001b[32m    471\u001b[39m     \u001b[38;5;28;01mraise\u001b[39;00m \u001b[38;5;167;01mValueError\u001b[39;00m(\n\u001b[32m    472\u001b[39m         \u001b[33m\"\u001b[39m\u001b[33mInvalid configuration: The chat functionality does not support `candidate_count` greater than 1.\u001b[39m\u001b[33m\"\u001b[39m\n\u001b[32m    473\u001b[39m     )\n\u001b[32m--> \u001b[39m\u001b[32m474\u001b[39m \u001b[38;5;28;01mreturn\u001b[39;00m \u001b[43mChatSession\u001b[49m\u001b[43m(\u001b[49m\n\u001b[32m    475\u001b[39m \u001b[43m    \u001b[49m\u001b[43mmodel\u001b[49m\u001b[43m=\u001b[49m\u001b[38;5;28;43mself\u001b[39;49m\u001b[43m,\u001b[49m\n\u001b[32m    476\u001b[39m \u001b[43m    \u001b[49m\u001b[43mhistory\u001b[49m\u001b[43m=\u001b[49m\u001b[43mhistory\u001b[49m\u001b[43m,\u001b[49m\n\u001b[32m    477\u001b[39m \u001b[43m    \u001b[49m\u001b[43menable_automatic_function_calling\u001b[49m\u001b[43m=\u001b[49m\u001b[43menable_automatic_function_calling\u001b[49m\u001b[43m,\u001b[49m\n\u001b[32m    478\u001b[39m \u001b[43m\u001b[49m\u001b[43m)\u001b[49m\n",
      "\u001b[36mFile \u001b[39m\u001b[32mc:\\Users\\Sri Lakshmi Prasanna\\anaconda3\\envs\\llmsenv\\Lib\\site-packages\\google\\generativeai\\generative_models.py:507\u001b[39m, in \u001b[36mChatSession.__init__\u001b[39m\u001b[34m(self, model, history, enable_automatic_function_calling)\u001b[39m\n\u001b[32m    500\u001b[39m \u001b[38;5;28;01mdef\u001b[39;00m\u001b[38;5;250m \u001b[39m\u001b[34m__init__\u001b[39m(\n\u001b[32m    501\u001b[39m     \u001b[38;5;28mself\u001b[39m,\n\u001b[32m    502\u001b[39m     model: GenerativeModel,\n\u001b[32m    503\u001b[39m     history: Iterable[content_types.StrictContentType] | \u001b[38;5;28;01mNone\u001b[39;00m = \u001b[38;5;28;01mNone\u001b[39;00m,\n\u001b[32m    504\u001b[39m     enable_automatic_function_calling: \u001b[38;5;28mbool\u001b[39m = \u001b[38;5;28;01mFalse\u001b[39;00m,\n\u001b[32m    505\u001b[39m ):\n\u001b[32m    506\u001b[39m     \u001b[38;5;28mself\u001b[39m.model: GenerativeModel = model\n\u001b[32m--> \u001b[39m\u001b[32m507\u001b[39m     \u001b[38;5;28mself\u001b[39m._history: \u001b[38;5;28mlist\u001b[39m[protos.Content] = \u001b[43mcontent_types\u001b[49m\u001b[43m.\u001b[49m\u001b[43mto_contents\u001b[49m\u001b[43m(\u001b[49m\u001b[43mhistory\u001b[49m\u001b[43m)\u001b[49m\n\u001b[32m    508\u001b[39m     \u001b[38;5;28mself\u001b[39m._last_sent: protos.Content | \u001b[38;5;28;01mNone\u001b[39;00m = \u001b[38;5;28;01mNone\u001b[39;00m\n\u001b[32m    509\u001b[39m     \u001b[38;5;28mself\u001b[39m._last_received: generation_types.BaseGenerateContentResponse | \u001b[38;5;28;01mNone\u001b[39;00m = \u001b[38;5;28;01mNone\u001b[39;00m\n",
      "\u001b[36mFile \u001b[39m\u001b[32mc:\\Users\\Sri Lakshmi Prasanna\\anaconda3\\envs\\llmsenv\\Lib\\site-packages\\google\\generativeai\\types\\content_types.py:333\u001b[39m, in \u001b[36mto_contents\u001b[39m\u001b[34m(contents)\u001b[39m\n\u001b[32m    328\u001b[39m     \u001b[38;5;28;01mexcept\u001b[39;00m \u001b[38;5;167;01mTypeError\u001b[39;00m:\n\u001b[32m    329\u001b[39m         \u001b[38;5;66;03m# If you get a TypeError here it's probably because that was a list\u001b[39;00m\n\u001b[32m    330\u001b[39m         \u001b[38;5;66;03m# of parts, not a list of contents, so fall back to `to_content`.\u001b[39;00m\n\u001b[32m    331\u001b[39m         \u001b[38;5;28;01mpass\u001b[39;00m\n\u001b[32m--> \u001b[39m\u001b[32m333\u001b[39m contents = [\u001b[43mto_content\u001b[49m\u001b[43m(\u001b[49m\u001b[43mcontents\u001b[49m\u001b[43m)\u001b[49m]\n\u001b[32m    334\u001b[39m \u001b[38;5;28;01mreturn\u001b[39;00m contents\n",
      "\u001b[36mFile \u001b[39m\u001b[32mc:\\Users\\Sri Lakshmi Prasanna\\anaconda3\\envs\\llmsenv\\Lib\\site-packages\\google\\generativeai\\types\\content_types.py:296\u001b[39m, in \u001b[36mto_content\u001b[39m\u001b[34m(content)\u001b[39m\n\u001b[32m    294\u001b[39m     \u001b[38;5;28;01mreturn\u001b[39;00m content\n\u001b[32m    295\u001b[39m \u001b[38;5;28;01melif\u001b[39;00m \u001b[38;5;28misinstance\u001b[39m(content, Iterable) \u001b[38;5;129;01mand\u001b[39;00m \u001b[38;5;129;01mnot\u001b[39;00m \u001b[38;5;28misinstance\u001b[39m(content, \u001b[38;5;28mstr\u001b[39m):\n\u001b[32m--> \u001b[39m\u001b[32m296\u001b[39m     \u001b[38;5;28;01mreturn\u001b[39;00m protos.Content(parts=[\u001b[43mto_part\u001b[49m\u001b[43m(\u001b[49m\u001b[43mpart\u001b[49m\u001b[43m)\u001b[49m \u001b[38;5;28;01mfor\u001b[39;00m part \u001b[38;5;129;01min\u001b[39;00m content])\n\u001b[32m    297\u001b[39m \u001b[38;5;28;01melse\u001b[39;00m:\n\u001b[32m    298\u001b[39m     \u001b[38;5;66;03m# Maybe this is a Part?\u001b[39;00m\n\u001b[32m    299\u001b[39m     \u001b[38;5;28;01mreturn\u001b[39;00m protos.Content(parts=[to_part(content)])\n",
      "\u001b[36mFile \u001b[39m\u001b[32mc:\\Users\\Sri Lakshmi Prasanna\\anaconda3\\envs\\llmsenv\\Lib\\site-packages\\google\\generativeai\\types\\content_types.py:264\u001b[39m, in \u001b[36mto_part\u001b[39m\u001b[34m(part)\u001b[39m\n\u001b[32m    260\u001b[39m     \u001b[38;5;28;01mreturn\u001b[39;00m protos.Part(function_response=part)\n\u001b[32m    262\u001b[39m \u001b[38;5;28;01melse\u001b[39;00m:\n\u001b[32m    263\u001b[39m     \u001b[38;5;66;03m# Maybe it can be turned into a blob?\u001b[39;00m\n\u001b[32m--> \u001b[39m\u001b[32m264\u001b[39m     \u001b[38;5;28;01mreturn\u001b[39;00m protos.Part(inline_data=\u001b[43mto_blob\u001b[49m\u001b[43m(\u001b[49m\u001b[43mpart\u001b[49m\u001b[43m)\u001b[49m)\n",
      "\u001b[36mFile \u001b[39m\u001b[32mc:\\Users\\Sri Lakshmi Prasanna\\anaconda3\\envs\\llmsenv\\Lib\\site-packages\\google\\generativeai\\types\\content_types.py:210\u001b[39m, in \u001b[36mto_blob\u001b[39m\u001b[34m(blob)\u001b[39m\n\u001b[32m    206\u001b[39m \u001b[38;5;28;01mif\u001b[39;00m \u001b[38;5;28misinstance\u001b[39m(blob, Mapping):\n\u001b[32m    207\u001b[39m     \u001b[38;5;28;01mraise\u001b[39;00m \u001b[38;5;167;01mKeyError\u001b[39;00m(\n\u001b[32m    208\u001b[39m         \u001b[33m\"\u001b[39m\u001b[33mCould not recognize the intended type of the `dict`\u001b[39m\u001b[38;5;130;01m\\n\u001b[39;00m\u001b[33m\"\u001b[39m \u001b[33m\"\u001b[39m\u001b[33mA content should have \u001b[39m\u001b[33m\"\u001b[39m\n\u001b[32m    209\u001b[39m     )\n\u001b[32m--> \u001b[39m\u001b[32m210\u001b[39m \u001b[38;5;28;01mraise\u001b[39;00m \u001b[38;5;167;01mTypeError\u001b[39;00m(\n\u001b[32m    211\u001b[39m     \u001b[33m\"\u001b[39m\u001b[33mCould not create `Blob`, expected `Blob`, `dict` or an `Image` type\u001b[39m\u001b[33m\"\u001b[39m\n\u001b[32m    212\u001b[39m     \u001b[33m\"\u001b[39m\u001b[33m(`PIL.Image.Image` or `IPython.display.Image`).\u001b[39m\u001b[38;5;130;01m\\n\u001b[39;00m\u001b[33m\"\u001b[39m\n\u001b[32m    213\u001b[39m     \u001b[33mf\u001b[39m\u001b[33m\"\u001b[39m\u001b[33mGot a: \u001b[39m\u001b[38;5;132;01m{\u001b[39;00m\u001b[38;5;28mtype\u001b[39m(blob)\u001b[38;5;132;01m}\u001b[39;00m\u001b[38;5;130;01m\\n\u001b[39;00m\u001b[33m\"\u001b[39m\n\u001b[32m    214\u001b[39m     \u001b[33mf\u001b[39m\u001b[33m\"\u001b[39m\u001b[33mValue: \u001b[39m\u001b[38;5;132;01m{\u001b[39;00mblob\u001b[38;5;132;01m}\u001b[39;00m\u001b[33m\"\u001b[39m\n\u001b[32m    215\u001b[39m )\n",
      "\u001b[31mTypeError\u001b[39m: Could not create `Blob`, expected `Blob`, `dict` or an `Image` type(`PIL.Image.Image` or `IPython.display.Image`).\nGot a: <class 'google.ai.generativelanguage_v1beta.types.content.Content'>\nValue: parts {\n  text: \"Hi there\"\n}\nrole: \"user\"\n"
     ]
    }
   ],
   "source": [
    "def gemini():\n",
    "    # Combine messages from llama and gemini\n",
    "    messages = []\n",
    "\n",
    "    for llama, gem in zip(llama_messages, gemini_messages):\n",
    "        messages.append({\"role\": \"user\", \"parts\": [llama]})\n",
    "        messages.append({\"role\": \"model\", \"parts\": [gem]})\n",
    "\n",
    "    # Add the latest user prompt\n",
    "    messages.append({\"role\": \"user\", \"parts\": [llama_messages[-1]]})\n",
    "\n",
    "    # Initialize the model\n",
    "    model = genai.GenerativeModel(model_name=\"gemini-2.0-flash\")\n",
    "\n",
    "    # Use the chat method to include history\n",
    "    chat = model.start_chat(history=messages)\n",
    "\n",
    "    # Generate a response\n",
    "    response = chat.send_message(user_prompt)\n",
    "\n",
    "    print(response.text)\n",
    "\n",
    "# Call the function\n",
    "gemini()\n"
   ]
  },
  {
   "cell_type": "code",
   "execution_count": 47,
   "id": "54ac829b",
   "metadata": {},
   "outputs": [
    {
     "name": "stdout",
     "output_type": "stream",
     "text": [
      "llama:\n",
      "Hi there\n",
      "\n",
      "gemini:\n",
      "Hi\n",
      "\n"
     ]
    }
   ],
   "source": [
    "\n",
    "llama_messages=[\"Hi there\"]\n",
    "gemini_messages=[\"Hi\"]\n",
    "\n",
    "\n",
    "print(f\"llama:\\n{llama_messages[0]}\\n\")\n",
    "print(f\"gemini:\\n{gemini_messages[0]}\\n\")\n",
    "\n",
    "\n"
   ]
  },
  {
   "cell_type": "code",
   "execution_count": 50,
   "id": "b212d4da",
   "metadata": {},
   "outputs": [
    {
     "name": "stdout",
     "output_type": "stream",
     "text": [
      "❌ Error during turn 1: Error code: 400 - {'error': {'message': 'invalid message content type: <nil>', 'type': 'invalid_request_error', 'param': None, 'code': None}}\n"
     ]
    }
   ],
   "source": [
    "for i in range(5):\n",
    "    try:\n",
    "        llama_next = llama()\n",
    "        print(f\"llama:\\n{llama_next}\\n\")\n",
    "        llama_messages.append(llama_next)\n",
    "\n",
    "        gemini_next = gemini()\n",
    "        if not gemini_next or gemini_next == \"[No response from Gemini]\":\n",
    "            print(\"Gemini did not respond properly, stopping conversation.\")\n",
    "            break\n",
    "        print(f\"gemini:\\n{gemini_next}\\n\")\n",
    "        gemini_messages.append(gemini_next)\n",
    "\n",
    "    except Exception as e:\n",
    "        print(f\"❌ Error during turn {i+1}: {e}\")\n",
    "        break\n"
   ]
  }
 ],
 "metadata": {
  "kernelspec": {
   "display_name": "llmsenv",
   "language": "python",
   "name": "python3"
  },
  "language_info": {
   "codemirror_mode": {
    "name": "ipython",
    "version": 3
   },
   "file_extension": ".py",
   "mimetype": "text/x-python",
   "name": "python",
   "nbconvert_exporter": "python",
   "pygments_lexer": "ipython3",
   "version": "3.12.9"
  }
 },
 "nbformat": 4,
 "nbformat_minor": 5
}
